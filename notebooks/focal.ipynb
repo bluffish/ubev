{
 "cells": [
  {
   "cell_type": "code",
   "execution_count": 12,
   "id": "9142ff30-debc-4c9f-8088-d52c43ee8e9f",
   "metadata": {},
   "outputs": [
    {
     "name": "stdout",
     "output_type": "stream",
     "text": [
      "The autoreload extension is already loaded. To reload it, use:\n",
      "  %reload_ext autoreload\n"
     ]
    }
   ],
   "source": [
    "%load_ext autoreload\n",
    "%autoreload 2"
   ]
  },
  {
   "cell_type": "code",
   "execution_count": 13,
   "id": "00ff32cc-7ddb-4944-a37a-143ee11cc2a8",
   "metadata": {},
   "outputs": [],
   "source": [
    "import os\n",
    "import sys\n",
    "module_path = os.path.abspath(os.path.join('..'))\n",
    "if module_path not in sys.path:\n",
    "    sys.path.append(module_path)"
   ]
  },
  {
   "cell_type": "code",
   "execution_count": 14,
   "id": "4027cf5f-2a15-4b4e-9747-bf24cb83e883",
   "metadata": {},
   "outputs": [],
   "source": [
    "from tools.loss import *"
   ]
  },
  {
   "cell_type": "code",
   "execution_count": 15,
   "id": "c72e0eb1-6294-4b63-a7e7-b4dba85a6cee",
   "metadata": {},
   "outputs": [],
   "source": [
    "logits = torch.tensor([[\n",
    "    10., 2., 2., 3.\n",
    "], [\n",
    "    10., 2., 2., 3.\n",
    "]])\n",
    "\n",
    "target = torch.tensor([[\n",
    "    1., 1., 0., 0.\n",
    "]])"
   ]
  },
  {
   "cell_type": "code",
   "execution_count": 16,
   "id": "64e43716-a875-4c91-af84-c81002484727",
   "metadata": {},
   "outputs": [],
   "source": [
    "logits = torch.randn((32, 4, 200, 200))\n",
    "target = torch.randn((32, 4, 200, 200))"
   ]
  },
  {
   "cell_type": "code",
   "execution_count": 52,
   "id": "bb2fbf12-fe77-4322-a6ed-2f1e4fd186b1",
   "metadata": {},
   "outputs": [
    {
     "name": "stdout",
     "output_type": "stream",
     "text": [
      "-1.7221511602401733\n"
     ]
    },
    {
     "data": {
      "text/plain": [
       "tensor(1.4439)"
      ]
     },
     "execution_count": 52,
     "metadata": {},
     "output_type": "execute_result"
    }
   ],
   "source": [
    "focal_loss(logits, target, n=1).mean()"
   ]
  },
  {
   "cell_type": "code",
   "execution_count": 53,
   "id": "64425493-a321-4e28-897c-a8b5ac6e6644",
   "metadata": {},
   "outputs": [
    {
     "name": "stdout",
     "output_type": "stream",
     "text": [
      "-1.7221511602401733\n"
     ]
    },
    {
     "data": {
      "text/plain": [
       "tensor(1.2967)"
      ]
     },
     "execution_count": 53,
     "metadata": {},
     "output_type": "execute_result"
    }
   ],
   "source": [
    "focal_loss_o(logits, target, n=1).mean()"
   ]
  },
  {
   "cell_type": "code",
   "execution_count": 45,
   "id": "4c8bbc77-edae-4c6f-9196-6874fa36f3de",
   "metadata": {},
   "outputs": [
    {
     "data": {
      "text/plain": [
       "tensor(0.0013)"
      ]
     },
     "execution_count": 45,
     "metadata": {},
     "output_type": "execute_result"
    }
   ],
   "source": [
    "ce_loss(logits, target).mean()"
   ]
  },
  {
   "cell_type": "code",
   "execution_count": 54,
   "id": "62f880a7-6fc7-4b98-bb40-0281b8230ff1",
   "metadata": {},
   "outputs": [],
   "source": [
    "def forward(input, target, n=1):\n",
    "\n",
    "    ce_loss = F.cross_entropy(input, target, reduction='none')\n",
    "    pt = torch.exp(-ce_loss)\n",
    "    focal_loss = ((1 - pt) ** n * ce_loss).mean()\n",
    "    return focal_loss"
   ]
  },
  {
   "cell_type": "code",
   "execution_count": 55,
   "id": "6f5dd337-60c7-4107-b188-fb7d2bb02b3c",
   "metadata": {},
   "outputs": [
    {
     "data": {
      "text/plain": [
       "tensor(3313517.5000)"
      ]
     },
     "execution_count": 55,
     "metadata": {},
     "output_type": "execute_result"
    }
   ],
   "source": [
    "forward(logits, target)"
   ]
  },
  {
   "cell_type": "code",
   "execution_count": null,
   "id": "49cc8538-534f-43b4-9d84-f11cdf8765db",
   "metadata": {},
   "outputs": [],
   "source": []
  }
 ],
 "metadata": {
  "kernelspec": {
   "display_name": "Python 3 (ipykernel)",
   "language": "python",
   "name": "python3"
  },
  "language_info": {
   "codemirror_mode": {
    "name": "ipython",
    "version": 3
   },
   "file_extension": ".py",
   "mimetype": "text/x-python",
   "name": "python",
   "nbconvert_exporter": "python",
   "pygments_lexer": "ipython3",
   "version": "3.9.7"
  }
 },
 "nbformat": 4,
 "nbformat_minor": 5
}

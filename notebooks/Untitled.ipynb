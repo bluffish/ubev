{
 "cells": [
  {
   "cell_type": "code",
   "execution_count": 1,
   "id": "781971d5-a1d7-4511-a7f1-53f4918ca214",
   "metadata": {},
   "outputs": [],
   "source": [
    "%load_ext autoreload\n",
    "%autoreload 2"
   ]
  },
  {
   "cell_type": "code",
   "execution_count": 2,
   "id": "bfe02515-4570-4449-8998-43f66ebfb48e",
   "metadata": {},
   "outputs": [],
   "source": [
    "import os\n",
    "import sys\n",
    "module_path = os.path.abspath(os.path.join('..'))\n",
    "if module_path not in sys.path:\n",
    "    sys.path.append(module_path)"
   ]
  },
  {
   "cell_type": "code",
   "execution_count": 82,
   "id": "c42a5620-f1e2-44ed-bd17-693387f3c641",
   "metadata": {},
   "outputs": [],
   "source": [
    "import torch\n",
    "import torch.nn.functional as F\n",
    "import torch.nn as nn\n",
    "import numpy as np\n",
    "from torchvision.ops import sigmoid_focal_loss\n",
    "from tools.loss import *"
   ]
  },
  {
   "cell_type": "code",
   "execution_count": 73,
   "id": "52da177f-abe6-431a-add7-b2999942bfdd",
   "metadata": {},
   "outputs": [],
   "source": [
    "preds = torch.rand(4, 2, 200, 200)\n",
    "logits = torch.logit(preds)\n",
    "target = torch.randint(0, 2, (4, 2, 200, 200)).float()"
   ]
  },
  {
   "cell_type": "code",
   "execution_count": 61,
   "id": "5e39f43b-fa3d-44fb-80d4-fc7e2b3d9db7",
   "metadata": {},
   "outputs": [
    {
     "data": {
      "text/plain": [
       "tensor(0.9988)"
      ]
     },
     "execution_count": 61,
     "metadata": {},
     "output_type": "execute_result"
    }
   ],
   "source": [
    "F.binary_cross_entropy(preds, target, reduction='mean')"
   ]
  },
  {
   "cell_type": "code",
   "execution_count": 60,
   "id": "b120d97b-bc64-4828-b079-5aee09aea4e0",
   "metadata": {},
   "outputs": [
    {
     "data": {
      "text/plain": [
       "tensor(0.9988)"
      ]
     },
     "execution_count": 60,
     "metadata": {},
     "output_type": "execute_result"
    }
   ],
   "source": [
    "F.binary_cross_entropy_with_logits(logits, target, reduction='mean')"
   ]
  },
  {
   "cell_type": "code",
   "execution_count": 68,
   "id": "3d703a5a-0cee-4206-aa73-eb7c6582d243",
   "metadata": {},
   "outputs": [
    {
     "data": {
      "text/plain": [
       "tensor(0.4082)"
      ]
     },
     "execution_count": 68,
     "metadata": {},
     "output_type": "execute_result"
    }
   ],
   "source": [
    "sigmoid_focal_loss(logits, target, alpha=-1, gamma=5, reduction='mean')"
   ]
  },
  {
   "cell_type": "code",
   "execution_count": 85,
   "id": "d727cdad-177a-49b0-8012-d4450165787a",
   "metadata": {},
   "outputs": [
    {
     "data": {
      "text/plain": [
       "tensor(0.6175)"
      ]
     },
     "execution_count": 85,
     "metadata": {},
     "output_type": "execute_result"
    }
   ],
   "source": [
    "FocalLoss()(logits, target)"
   ]
  },
  {
   "cell_type": "code",
   "execution_count": 87,
   "id": "68ea0144-5c5c-479e-a634-2737e4eb4126",
   "metadata": {},
   "outputs": [
    {
     "data": {
      "text/plain": [
       "tensor(0.6175)"
      ]
     },
     "execution_count": 87,
     "metadata": {},
     "output_type": "execute_result"
    }
   ],
   "source": [
    "new_focal_loss(logits, target, n=2).mean()"
   ]
  },
  {
   "cell_type": "code",
   "execution_count": 92,
   "id": "7c8d4aaf-f71f-489f-9398-041228d9aa14",
   "metadata": {},
   "outputs": [
    {
     "data": {
      "text/plain": [
       "tensor(0.6949)"
      ]
     },
     "execution_count": 92,
     "metadata": {},
     "output_type": "execute_result"
    }
   ],
   "source": [
    "uce_loss(preds+1, target).mean()"
   ]
  },
  {
   "cell_type": "code",
   "execution_count": 90,
   "id": "9068f3bc-6fc2-4bbe-a0a5-70e036aec106",
   "metadata": {},
   "outputs": [
    {
     "data": {
      "text/plain": [
       "tensor(0.4898)"
      ]
     },
     "execution_count": 90,
     "metadata": {},
     "output_type": "execute_result"
    }
   ],
   "source": [
    "u_focal_loss(preds+1, target).mean()"
   ]
  },
  {
   "cell_type": "code",
   "execution_count": null,
   "id": "3129a150-d033-4553-9ad8-c858d9317352",
   "metadata": {},
   "outputs": [],
   "source": []
  }
 ],
 "metadata": {
  "kernelspec": {
   "display_name": "Python 3 (ipykernel)",
   "language": "python",
   "name": "python3"
  },
  "language_info": {
   "codemirror_mode": {
    "name": "ipython",
    "version": 3
   },
   "file_extension": ".py",
   "mimetype": "text/x-python",
   "name": "python",
   "nbconvert_exporter": "python",
   "pygments_lexer": "ipython3",
   "version": "3.9.7"
  }
 },
 "nbformat": 4,
 "nbformat_minor": 5
}

%load_ext autoreload
%autoreload 2


import os
os.environ["CUDA_DEVICE_ORDER"] = "PCI_BUS_ID"

import sys
module_path = os.path.abspath(os.path.join('..'))
if module_path not in sys.path:
    sys.path.append(module_path)


from datasets.carla import *
from tools.geometry import *
from tools.utils import *

%matplotlib inline
import matplotlib.pyplot as plt

from numpy.linalg import inv
import random

from tqdm.notebook import tqdm      


carla_data = CarlaDataset("../../data/carla/val_aug_more", False, pos_class="vehicle")


nusc, dataroot = get_nusc("trainval", "../../data/nuscenes/")
nusc_data = NuScenesDataset(nusc, True, "vehicle", ind=True)


loader = torch.utils.data.DataLoader(nusc_data, batch_size=50, num_workers=32)



len(carla_data)


oods_total = 0
ids_total = 0

for images, intrinsics, extrinsics, labels, oods in tqdm(loader):
    oods_total += oods.sum()
    ids_total += labels[:, 0].sum()

print(ids_total/(200*200*len(carla_data)))
print(oods_total/(200*200*len(carla_data)))




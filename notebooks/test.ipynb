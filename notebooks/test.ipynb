{
 "cells": [
  {
   "cell_type": "raw",
   "id": "dbfae5a6",
   "metadata": {
    "collapsed": false,
    "jupyter": {
     "outputs_hidden": false
    }
   },
   "source": [
    "%reload_ext autoreload\n",
    "%autoreload 2"
   ]
  },
  {
   "cell_type": "code",
   "execution_count": 1,
   "id": "65f179e2-eed8-410f-b422-2ef3b0238845",
   "metadata": {},
   "outputs": [],
   "source": [
    "import os\n",
    "import sys\n",
    "module_path = os.path.abspath(os.path.join('..'))\n",
    "if module_path not in sys.path:\n",
    "    sys.path.append(module_path)"
   ]
  },
  {
   "cell_type": "code",
   "execution_count": 2,
   "id": "b3ef9708-4080-4029-a918-bed328e388aa",
   "metadata": {},
   "outputs": [],
   "source": [
    "from datasets.nuscenes import compile_data\n",
    "from time import time"
   ]
  },
  {
   "cell_type": "code",
   "execution_count": 3,
   "id": "5c645aab-a8f6-408d-a0b8-1acdee9acd39",
   "metadata": {},
   "outputs": [],
   "source": [
    "num_workers = [1, 2, 4, 8, 16, 32, 64]"
   ]
  },
  {
   "cell_type": "code",
   "execution_count": 5,
   "id": "2f95f231-c226-4c36-9b4e-d0abdb485616",
   "metadata": {},
   "outputs": [
    {
     "name": "stdout",
     "output_type": "stream",
     "text": [
      "1 73.93147206306458\n",
      "2 37.29607152938843\n",
      "4 19.876653909683228\n",
      "8 11.52910327911377\n",
      "16 9.245337724685669\n",
      "32 8.258256435394287\n",
      "64 8.62651777267456\n"
     ]
    }
   ],
   "source": [
    "split = 'mini'\n",
    "DATAROOT = \"../../data/nuscenes\"\n",
    "\n",
    "for workers in num_workers:\n",
    "    tl, vl = compile_data(split, DATAROOT, num_workers=workers, batch_size=32)\n",
    "    t_0 = time()\n",
    "\n",
    "    for _, _, _, _ in tl:\n",
    "        pass\n",
    "        \n",
    "    print(workers, time() - t_0)"
   ]
  },
  {
   "cell_type": "code",
   "execution_count": null,
   "id": "7fdc860a-6f4b-4b5a-9f15-e2023cbb0489",
   "metadata": {},
   "outputs": [],
   "source": []
  }
 ],
 "metadata": {
  "kernelspec": {
   "display_name": "Python 3 (ipykernel)",
   "language": "python",
   "name": "python3"
  },
  "language_info": {
   "codemirror_mode": {
    "name": "ipython",
    "version": 3
   },
   "file_extension": ".py",
   "mimetype": "text/x-python",
   "name": "python",
   "nbconvert_exporter": "python",
   "pygments_lexer": "ipython3",
   "version": "3.8.5"
  }
 },
 "nbformat": 4,
 "nbformat_minor": 5
}

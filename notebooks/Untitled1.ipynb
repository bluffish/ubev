{
 "cells": [
  {
   "cell_type": "code",
   "execution_count": 26,
   "id": "42e0d9f5-fa63-4f4d-bbec-bbb131f4ceae",
   "metadata": {},
   "outputs": [
    {
     "name": "stdout",
     "output_type": "stream",
     "text": [
      "The autoreload extension is already loaded. To reload it, use:\n",
      "  %reload_ext autoreload\n"
     ]
    }
   ],
   "source": [
    "%load_ext autoreload\n",
    "%autoreload 2"
   ]
  },
  {
   "cell_type": "code",
   "execution_count": 27,
   "id": "42b799c7-6600-49c7-acfd-fb5c4dc04f99",
   "metadata": {},
   "outputs": [],
   "source": [
    "import os\n",
    "os.environ[\"CUDA_DEVICE_ORDER\"] = \"PCI_BUS_ID\"\n",
    "\n",
    "import sys\n",
    "module_path = os.path.abspath(os.path.join('..'))\n",
    "if module_path not in sys.path:\n",
    "    sys.path.append(module_path)"
   ]
  },
  {
   "cell_type": "code",
   "execution_count": 28,
   "id": "59f381b6-3c05-4785-bcc6-19f42f07354a",
   "metadata": {},
   "outputs": [],
   "source": [
    "from datasets.carla import *\n",
    "from tools.geometry import *\n",
    "from tools.utils import *\n",
    "\n",
    "%matplotlib inline\n",
    "import matplotlib.pyplot as plt\n",
    "\n",
    "from numpy.linalg import inv\n",
    "import random\n",
    "\n",
    "from tqdm.notebook import tqdm      "
   ]
  },
  {
   "cell_type": "code",
   "execution_count": 34,
   "id": "1728fae2-5535-4def-80ca-d451d3688e0d",
   "metadata": {},
   "outputs": [],
   "source": [
    "carla_data = CarlaDataset(\"../../data/carla/val_aug_more\", False, pos_class=\"vehicle\")"
   ]
  },
  {
   "cell_type": "code",
   "execution_count": null,
   "id": "9a2760d2-bc53-4d92-ad15-29e1953e2e0c",
   "metadata": {},
   "outputs": [],
   "source": [
    "nusc, dataroot = get_nusc(\"trainval\", \"../../data/nuscenes/\")\n",
    "nusc_data = NuScenesDataset(nusc, True, \"vehicle\", ind=True)"
   ]
  },
  {
   "cell_type": "code",
   "execution_count": 35,
   "id": "25b7c13a-180a-4cc6-af7c-d21f6f2b63a7",
   "metadata": {},
   "outputs": [],
   "source": [
    "loader = torch.utils.data.DataLoader(nusc_data, batch_size=50, num_workers=32)\n"
   ]
  },
  {
   "cell_type": "code",
   "execution_count": 36,
   "id": "2a76ee75-f65b-4da7-ac8f-7198e3ad2b73",
   "metadata": {},
   "outputs": [
    {
     "data": {
      "text/plain": [
       "5000"
      ]
     },
     "execution_count": 36,
     "metadata": {},
     "output_type": "execute_result"
    }
   ],
   "source": [
    "len(carla_data)"
   ]
  },
  {
   "cell_type": "code",
   "execution_count": 37,
   "id": "82e731ca-60a0-4695-a17b-0ebd277b4bd5",
   "metadata": {},
   "outputs": [
    {
     "data": {
      "application/vnd.jupyter.widget-view+json": {
       "model_id": "db6b2773962747fc80530810e843f69c",
       "version_major": 2,
       "version_minor": 0
      },
      "text/plain": [
       "  0%|          | 0/100 [00:00<?, ?it/s]"
      ]
     },
     "metadata": {},
     "output_type": "display_data"
    },
    {
     "name": "stdout",
     "output_type": "stream",
     "text": [
      "tensor(0.0064, dtype=torch.float64)\n",
      "tensor(0.0046, dtype=torch.float64)\n"
     ]
    }
   ],
   "source": [
    "oods_total = 0\n",
    "ids_total = 0\n",
    "\n",
    "for images, intrinsics, extrinsics, labels, oods in tqdm(loader):\n",
    "    oods_total += oods.sum()\n",
    "    ids_total += labels[:, 0].sum()\n",
    "\n",
    "print(ids_total/(200*200*len(carla_data)))\n",
    "print(oods_total/(200*200*len(carla_data)))"
   ]
  },
  {
   "cell_type": "code",
   "execution_count": null,
   "id": "773e9250-0d88-45d4-8c50-b28c2ea8d870",
   "metadata": {},
   "outputs": [],
   "source": []
  }
 ],
 "metadata": {
  "kernelspec": {
   "display_name": "sucam",
   "language": "python",
   "name": "sucam"
  },
  "language_info": {
   "codemirror_mode": {
    "name": "ipython",
    "version": 3
   },
   "file_extension": ".py",
   "mimetype": "text/x-python",
   "name": "python",
   "nbconvert_exporter": "python",
   "pygments_lexer": "ipython3",
   "version": "3.10.13"
  }
 },
 "nbformat": 4,
 "nbformat_minor": 5
}

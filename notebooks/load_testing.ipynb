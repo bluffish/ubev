{
 "cells": [
  {
   "cell_type": "code",
   "execution_count": 1,
   "id": "0e8df49f-35bb-4326-89f2-6c408f636698",
   "metadata": {},
   "outputs": [],
   "source": [
    "%load_ext autoreload\n",
    "%autoreload 2"
   ]
  },
  {
   "cell_type": "code",
   "execution_count": 2,
   "id": "95ca2787-a03d-42e6-b856-62d4bfdc777b",
   "metadata": {},
   "outputs": [],
   "source": [
    "import os\n",
    "import sys\n",
    "module_path = os.path.abspath(os.path.join('..'))\n",
    "if module_path not in sys.path:\n",
    "    sys.path.append(module_path)"
   ]
  },
  {
   "cell_type": "code",
   "execution_count": 3,
   "id": "43013392-3b82-48ca-9126-6ccd5c45a144",
   "metadata": {},
   "outputs": [],
   "source": [
    "from datasets.nuscenes_ood import *"
   ]
  },
  {
   "cell_type": "code",
   "execution_count": 4,
   "id": "1479bdd9-d0e1-406c-af1b-5b34e09288f3",
   "metadata": {},
   "outputs": [],
   "source": [
    "split = 'mini'\n",
    "DATAROOT = \"../../data/nuscenes\""
   ]
  },
  {
   "cell_type": "code",
   "execution_count": 5,
   "id": "98b4d56a-aae0-4d17-aba3-5e19b7b9ca31",
   "metadata": {},
   "outputs": [],
   "source": [
    "nusc, dataroot = get_nusc(\"mini\", \"../../data/nuscenes\")\n",
    "val_data = NuScenesDatasetOOD(nusc, False, device=4)"
   ]
  },
  {
   "cell_type": "code",
   "execution_count": null,
   "id": "9a900682-9405-4355-8e79-bffd1bfd2edd",
   "metadata": {},
   "outputs": [
    {
     "data": {
      "application/vnd.jupyter.widget-view+json": {
       "model_id": "2a58cb4bda5041c3a530b546c187fef3",
       "version_major": 2,
       "version_minor": 0
      },
      "text/plain": [
       "  0%|          | 0/50 [00:00<?, ?it/s]"
      ]
     },
     "metadata": {},
     "output_type": "display_data"
    },
    {
     "data": {
      "application/vnd.jupyter.widget-view+json": {
       "model_id": "5c038ae581344e45bf01679f6a7839f6",
       "version_major": 2,
       "version_minor": 0
      },
      "text/plain": [
       "  0%|          | 0/50 [00:00<?, ?it/s]"
      ]
     },
     "metadata": {},
     "output_type": "display_data"
    }
   ],
   "source": [
    "for images, intrinsics, extrinsics, labels, oods, cam_oods in val_data:\n",
    "    pass"
   ]
  },
  {
   "cell_type": "code",
   "execution_count": null,
   "id": "a3cb6009-5f62-43eb-adb2-cd9e6f1c0b6b",
   "metadata": {},
   "outputs": [],
   "source": []
  },
  {
   "cell_type": "code",
   "execution_count": null,
   "id": "b40b2dde-c7ff-4dae-ba50-f46cab107906",
   "metadata": {},
   "outputs": [],
   "source": []
  }
 ],
 "metadata": {
  "kernelspec": {
   "display_name": "Python 3 (ipykernel)",
   "language": "python",
   "name": "python3"
  },
  "language_info": {
   "codemirror_mode": {
    "name": "ipython",
    "version": 3
   },
   "file_extension": ".py",
   "mimetype": "text/x-python",
   "name": "python",
   "nbconvert_exporter": "python",
   "pygments_lexer": "ipython3",
   "version": "3.9.7"
  }
 },
 "nbformat": 4,
 "nbformat_minor": 5
}

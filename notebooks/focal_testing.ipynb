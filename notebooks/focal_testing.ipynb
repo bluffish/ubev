{
 "cells": [
  {
   "cell_type": "code",
   "execution_count": 1,
   "id": "7baf76aa-387a-4092-8813-30220cffa5ba",
   "metadata": {},
   "outputs": [],
   "source": [
    "%load_ext autoreload\n",
    "%autoreload 2"
   ]
  },
  {
   "cell_type": "code",
   "execution_count": 2,
   "id": "79fccdf4-90d2-4f69-98c1-6628fed2d9f3",
   "metadata": {},
   "outputs": [],
   "source": [
    "import os\n",
    "import sys\n",
    "module_path = os.path.abspath(os.path.join('..'))\n",
    "if module_path not in sys.path:\n",
    "    sys.path.append(module_path)"
   ]
  },
  {
   "cell_type": "code",
   "execution_count": 3,
   "id": "a01987fd-40d5-436b-94a4-960899a1fc6b",
   "metadata": {},
   "outputs": [],
   "source": [
    "from datasets.nuscenes import *\n",
    "from models.evidential import *\n",
    "\n",
    "from tools.utils import *\n",
    "from tools.loss import *\n",
    "\n",
    "%matplotlib inline\n",
    "import matplotlib.pyplot as plt"
   ]
  },
  {
   "cell_type": "code",
   "execution_count": 4,
   "id": "41189205-a69b-46b0-8f1b-f15b7cdfc486",
   "metadata": {},
   "outputs": [
    {
     "name": "stdout",
     "output_type": "stream",
     "text": [
      "Loaded pretrained weights for efficientnet-b0\n"
     ]
    }
   ],
   "source": [
    "nusc, dataroot = get_nusc(\"mini\", \"../../data/nuscenes\")\n",
    "nusc_data = NuScenesDataset(nusc, False)\n",
    "model = Baseline([7], backbone=\"lss\")\n",
    "# model.load(torch.load(\"../outputs/nuscenes/lss_baseline_focal_n0.5/4.pt\"))"
   ]
  },
  {
   "cell_type": "code",
   "execution_count": 17,
   "id": "6ffdee3b-486b-4bfc-b3ac-7aaddfc184c0",
   "metadata": {},
   "outputs": [],
   "source": [
    "images, intrinsics, extrinsics, labels = nusc_data[0]\n",
    "images = images[None].to(7)\n",
    "intrinsics = intrinsics[None].to(7)\n",
    "extrinsics = extrinsics[None].to(7)\n",
    "labels = labels[None].to(7)"
   ]
  },
  {
   "cell_type": "code",
   "execution_count": 18,
   "id": "328bae1e-db43-43b2-9ff8-ec4703b30f79",
   "metadata": {},
   "outputs": [
    {
     "data": {
      "text/plain": [
       "tensor([3., 1., 3., 1.], device='cuda:7')"
      ]
     },
     "execution_count": 18,
     "metadata": {},
     "output_type": "execute_result"
    }
   ],
   "source": [
    "logits = model(images, intrinsics, extrinsics) \n",
    "preds = model.activate(logits)\n",
    "torch.tensor([3., 1., 3., 1.]).to(7)\n"
   ]
  },
  {
   "cell_type": "code",
   "execution_count": 1,
   "id": "4b56ad83-74e1-40ec-873f-58dc8d89bd65",
   "metadata": {},
   "outputs": [
    {
     "ename": "NameError",
     "evalue": "name 'new_focal_loss' is not defined",
     "output_type": "error",
     "traceback": [
      "\u001b[0;31m---------------------------------------------------------------------------\u001b[0m",
      "\u001b[0;31mNameError\u001b[0m                                 Traceback (most recent call last)",
      "Cell \u001b[0;32mIn[1], line 1\u001b[0m\n\u001b[0;32m----> 1\u001b[0m \u001b[43mnew_focal_loss\u001b[49m(logits, labels, n\u001b[38;5;241m=\u001b[39m\u001b[38;5;241m2\u001b[39m, weights\u001b[38;5;241m=\u001b[39mtorch\u001b[38;5;241m.\u001b[39mtensor([\u001b[38;5;241m3.\u001b[39m, \u001b[38;5;241m1.\u001b[39m, \u001b[38;5;241m3.\u001b[39m, \u001b[38;5;241m1.\u001b[39m])\u001b[38;5;241m.\u001b[39mto(\u001b[38;5;241m7\u001b[39m))\u001b[38;5;241m.\u001b[39mmean()\n",
      "\u001b[0;31mNameError\u001b[0m: name 'new_focal_loss' is not defined"
     ]
    }
   ],
   "source": [
    "new_focal_loss(logits, labels, n=2, weights=torch.tensor([3., 1., 3., 1.]).to(7)).mean()"
   ]
  },
  {
   "cell_type": "code",
   "execution_count": 21,
   "id": "a3db2f8e-fdaf-436d-97cb-bd2a9415bbbb",
   "metadata": {},
   "outputs": [
    {
     "data": {
      "text/plain": [
       "tensor(0.8607, device='cuda:7', grad_fn=<MeanBackward0>)"
      ]
     },
     "execution_count": 21,
     "metadata": {},
     "output_type": "execute_result"
    }
   ],
   "source": [
    "focal_loss(logits, labels, n=2, weights=torch.tensor([3., 1., 3., 1.]).to(7)).mean()"
   ]
  },
  {
   "cell_type": "code",
   "execution_count": null,
   "id": "0a7fff61-bcc7-411b-990e-b75a2db15532",
   "metadata": {},
   "outputs": [],
   "source": [
    "fig, axs = plt.subplots(1, 2)\n",
    "\n",
    "axs[0].imshow(map_rgb(labels[0]) / 255)\n",
    "axs[1].imshow(map_rgb(preds[0]) / 255)"
   ]
  },
  {
   "cell_type": "code",
   "execution_count": null,
   "id": "f8eac1a5-d9f8-47e1-9254-aa32e85e26f5",
   "metadata": {},
   "outputs": [],
   "source": [
    "torch.softmax(torch.tensor([10., -10., -10., -10.]), dim=0)"
   ]
  },
  {
   "cell_type": "code",
   "execution_count": null,
   "id": "217756d4-f2fa-444e-b4b9-1b0bda10f68b",
   "metadata": {},
   "outputs": [],
   "source": []
  }
 ],
 "metadata": {
  "kernelspec": {
   "display_name": "Python 3 (ipykernel)",
   "language": "python",
   "name": "python3"
  },
  "language_info": {
   "codemirror_mode": {
    "name": "ipython",
    "version": 3
   },
   "file_extension": ".py",
   "mimetype": "text/x-python",
   "name": "python",
   "nbconvert_exporter": "python",
   "pygments_lexer": "ipython3",
   "version": "3.9.7"
  }
 },
 "nbformat": 4,
 "nbformat_minor": 5
}

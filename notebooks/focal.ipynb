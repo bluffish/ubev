{
 "cells": [
  {
   "cell_type": "code",
   "execution_count": 1,
   "id": "9142ff30-debc-4c9f-8088-d52c43ee8e9f",
   "metadata": {},
   "outputs": [],
   "source": [
    "%load_ext autoreload\n",
    "%autoreload 2"
   ]
  },
  {
   "cell_type": "code",
   "execution_count": 2,
   "id": "00ff32cc-7ddb-4944-a37a-143ee11cc2a8",
   "metadata": {},
   "outputs": [],
   "source": [
    "import os\n",
    "import sys\n",
    "module_path = os.path.abspath(os.path.join('..'))\n",
    "if module_path not in sys.path:\n",
    "    sys.path.append(module_path)"
   ]
  },
  {
   "cell_type": "code",
   "execution_count": 3,
   "id": "4027cf5f-2a15-4b4e-9747-bf24cb83e883",
   "metadata": {},
   "outputs": [],
   "source": [
    "from tools.loss import *\n",
    "from tools.loss_o import *\n"
   ]
  },
  {
   "cell_type": "code",
   "execution_count": 4,
   "id": "c72e0eb1-6294-4b63-a7e7-b4dba85a6cee",
   "metadata": {},
   "outputs": [],
   "source": [
    "logits = torch.tensor([[\n",
    "    10., 2., 2., 3.\n",
    "], [\n",
    "    10., 2., 2., 3.\n",
    "]])\n",
    "\n",
    "target = torch.tensor([[\n",
    "    1., 1., 0., 0.\n",
    "]])"
   ]
  },
  {
   "cell_type": "code",
   "execution_count": 8,
   "id": "64e43716-a875-4c91-af84-c81002484727",
   "metadata": {},
   "outputs": [],
   "source": [
    "logits = torch.randn((32, 4, 200, 200))\n",
    "target = torch.randn((32, 4, 200, 200))"
   ]
  },
  {
   "cell_type": "code",
   "execution_count": 9,
   "id": "259a9715-8af4-4699-9f7d-82b005dee0ee",
   "metadata": {},
   "outputs": [
    {
     "data": {
      "text/plain": [
       "torch.Size([32, 4, 200, 200])"
      ]
     },
     "execution_count": 9,
     "metadata": {},
     "output_type": "execute_result"
    }
   ],
   "source": [
    "logits.softmax(dim=1)\n",
    "logits.shape"
   ]
  },
  {
   "cell_type": "code",
   "execution_count": 10,
   "id": "bb2fbf12-fe77-4322-a6ed-2f1e4fd186b1",
   "metadata": {},
   "outputs": [
    {
     "data": {
      "text/plain": [
       "tensor(1.4437)"
      ]
     },
     "execution_count": 10,
     "metadata": {},
     "output_type": "execute_result"
    }
   ],
   "source": [
    "focal_loss(logits, target, n=1).mean()"
   ]
  },
  {
   "cell_type": "code",
   "execution_count": 11,
   "id": "64425493-a321-4e28-897c-a8b5ac6e6644",
   "metadata": {},
   "outputs": [
    {
     "data": {
      "text/plain": [
       "tensor(1.4437)"
      ]
     },
     "execution_count": 11,
     "metadata": {},
     "output_type": "execute_result"
    }
   ],
   "source": [
    "focal_loss_o(gamma=1)(logits, target.argmax(dim=1).long())"
   ]
  },
  {
   "cell_type": "code",
   "execution_count": null,
   "id": "4c8bbc77-edae-4c6f-9196-6874fa36f3de",
   "metadata": {},
   "outputs": [],
   "source": [
    "ce_loss(logits, target)"
   ]
  },
  {
   "cell_type": "code",
   "execution_count": null,
   "id": "62f880a7-6fc7-4b98-bb40-0281b8230ff1",
   "metadata": {},
   "outputs": [],
   "source": []
  }
 ],
 "metadata": {
  "kernelspec": {
   "display_name": "Python 3 (ipykernel)",
   "language": "python",
   "name": "python3"
  },
  "language_info": {
   "codemirror_mode": {
    "name": "ipython",
    "version": 3
   },
   "file_extension": ".py",
   "mimetype": "text/x-python",
   "name": "python",
   "nbconvert_exporter": "python",
   "pygments_lexer": "ipython3",
   "version": "3.9.7"
  }
 },
 "nbformat": 4,
 "nbformat_minor": 5
}

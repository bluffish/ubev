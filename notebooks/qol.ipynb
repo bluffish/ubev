{
 "cells": [
  {
   "cell_type": "code",
   "execution_count": 1,
   "id": "a56dd778-1314-4945-ab93-c6eb0cb12fe8",
   "metadata": {},
   "outputs": [],
   "source": [
    "%load_ext autoreload\n",
    "%autoreload 2"
   ]
  },
  {
   "cell_type": "code",
   "execution_count": 3,
   "id": "3c84452a-e31c-45d4-b3a2-50ca87a215aa",
   "metadata": {},
   "outputs": [],
   "source": [
    "import os\n",
    "os.environ[\"CUDA_DEVICE_ORDER\"] = \"PCI_BUS_ID\"\n",
    "import sys\n",
    "\n",
    "module_path = os.path.abspath(os.path.join('..'))\n",
    "if module_path not in sys.path:\n",
    "    sys.path.append(module_path)\n",
    "\n",
    "def eval (out, model, label):\n",
    "    probs = model.activate(out)\n",
    "    unc = model.aleatoric(out).cpu()\n",
    "    pmax = probs.argmax(dim=1)\n",
    "    lmax = label.argmax(dim=1)\n",
    "    mis = pmax.cpu() != lmax.cpu()\n",
    "\n",
    "    agree = mis.bool() == (unc > .5)\n",
    "\n",
    "    return agree.float().mean().item()\n"
   ]
  },
  {
   "cell_type": "code",
   "execution_count": 18,
   "id": "0970c549-0ba3-4696-b15f-6f2ee3994dc2",
   "metadata": {},
   "outputs": [],
   "source": [
    "from models.evidential import *\n",
    "\n",
    "%matplotlib inline\n",
    "import matplotlib as mpl\n",
    "import matplotlib.pyplot as plt"
   ]
  },
  {
   "cell_type": "code",
   "execution_count": 46,
   "id": "91066f69-9612-4c26-8ac4-8147fef0ea63",
   "metadata": {},
   "outputs": [],
   "source": [
    "from datasets.carla import compile_data as compile_data_carla\n",
    "from datasets.nuscenes import compile_data as compile_data_nuscenes\n",
    "from tools.utils import *"
   ]
  },
  {
   "cell_type": "code",
   "execution_count": 52,
   "id": "1013042b-4e90-43ba-bb22-eb1226cb2a05",
   "metadata": {},
   "outputs": [
    {
     "name": "stdout",
     "output_type": "stream",
     "text": [
      "Loaded pretrained weights for efficientnet-b0\n",
      "BETA LAMBDA: 0.001\n"
     ]
    }
   ],
   "source": [
    "evidential = Evidential([7], backbone=\"lss\", n_classes=2)\n",
    "evidential.load(torch.load(\"../outputs_bin/carla/aug/lss_ufocal_gamma=.1_ol=.01_k=64/19.pt\"))"
   ]
  },
  {
   "cell_type": "code",
   "execution_count": 48,
   "id": "f9e021bf-42e7-49e9-8fbc-67a430e83543",
   "metadata": {},
   "outputs": [],
   "source": [
    "loader_c = compile_data_carla(\"ood\", \"mini\", \"../../data/carla\", \"vehicle\")\n",
    "loader_n = compile_data_nuscenes(\"ood\", \"mini\", \"../../data/nuscenes\", \"vehicle\")"
   ]
  },
  {
   "cell_type": "code",
   "execution_count": null,
   "id": "6e791a20-effc-4cd4-ab5b-db74353aa140",
   "metadata": {},
   "outputs": [],
   "source": [
    "images, intrinsics, extrinsics, labels, oods = loader_c.dataset[268]\n",
    "images = images[None].to(7)\n",
    "intrinsics = intrinsics[None].to(7)\n",
    "extrinsics = extrinsics[None].to(7)"
   ]
  },
  {
   "cell_type": "code",
   "execution_count": 90,
   "id": "bceca5b9-2d28-4dec-9d35-56f145e2b23f",
   "metadata": {},
   "outputs": [],
   "source": [
    "alpha = evidential(images, intrinsics, extrinsics)\n",
    "preds = evidential.activate(alpha)\n",
    "ep = evidential.epistemic(alpha)"
   ]
  },
  {
   "cell_type": "code",
   "execution_count": 91,
   "id": "b2ad2faf-560f-4d13-bcc8-301e98a66e94",
   "metadata": {},
   "outputs": [
    {
     "data": {
      "image/png": "[encoded data removed]",
      "text/plain": [
       "<Figure size 800x1600 with 2 Axes>"
      ]
     },
     "metadata": {},
     "output_type": "display_data"
    }
   ],
   "source": [
    "fig, axs = plt.subplots(1, 2, figsize=(8, 16))\n",
    "fig.subplots_adjust(wspace=0, hspace=0)\n",
    "\n",
    "axs[0].imshow(ep[0, 0].detach().cpu(), cmap=\"magma\")\n",
    "axs[1].imshow(oods[0], cmap=\"magma\")\n",
    "\n",
    "for ax in axs.flatten():\n",
    "    ax.set_xticks([])\n",
    "    ax.set_yticks([])"
   ]
  },
  {
   "cell_type": "code",
   "execution_count": null,
   "id": "a117ee24-aee8-40d3-9683-361308646348",
   "metadata": {},
   "outputs": [],
   "source": []
  }
 ],
 "metadata": {
  "kernelspec": {
   "display_name": "Python 3 (ipykernel)",
   "language": "python",
   "name": "python3"
  },
  "language_info": {
   "codemirror_mode": {
    "name": "ipython",
    "version": 3
   },
   "file_extension": ".py",
   "mimetype": "text/x-python",
   "name": "python",
   "nbconvert_exporter": "python",
   "pygments_lexer": "ipython3",
   "version": "3.9.7"
  }
 },
 "nbformat": 4,
 "nbformat_minor": 5
}

{
 "cells": [
  {
   "cell_type": "code",
   "execution_count": 1,
   "id": "f552d3b5-69ff-4da5-9eed-0fb0fcf07b24",
   "metadata": {},
   "outputs": [],
   "source": [
    "%load_ext autoreload\n",
    "%autoreload 2"
   ]
  },
  {
   "cell_type": "code",
   "execution_count": 2,
   "id": "b5328611-8e86-45b2-a02a-05a5874b4e14",
   "metadata": {},
   "outputs": [],
   "source": [
    "import os\n",
    "os.environ[\"CUDA_DEVICE_ORDER\"] = \"PCI_BUS_ID\"\n",
    "\n",
    "import sys\n",
    "module_path = os.path.abspath(os.path.join('..'))\n",
    "if module_path not in sys.path:\n",
    "    sys.path.append(module_path)"
   ]
  },
  {
   "cell_type": "code",
   "execution_count": 3,
   "id": "9f40eb79-3db2-4cdf-9932-172dc015aec4",
   "metadata": {},
   "outputs": [],
   "source": [
    "from datasets.carla import *\n",
    "from tools.geometry import *\n",
    "from tools.utils import *\n",
    "\n",
    "%matplotlib inline\n",
    "import matplotlib.pyplot as plt\n",
    "\n",
    "from numpy.linalg import inv\n",
    "import random\n",
    "\n",
    "from tqdm.notebook import tqdm      "
   ]
  },
  {
   "cell_type": "code",
   "execution_count": 4,
   "id": "631df625-0a21-497d-afa0-6e5df0678ee6",
   "metadata": {},
   "outputs": [],
   "source": [
    "def find_center(array):\n",
    "    indices = np.argwhere(array == 1)\n",
    "\n",
    "    min_x = np.min(indices[:, 1])\n",
    "    max_x = np.max(indices[:, 1])\n",
    "    min_y = np.min(indices[:, 0])\n",
    "    max_y = np.max(indices[:, 0])\n",
    "\n",
    "    center_x = (max_x + min_x) / 2\n",
    "    center_y = (max_y + min_y) / 2\n",
    "\n",
    "    return center_x, center_y\n",
    "\n",
    "\n",
    "def find_total_height(array):\n",
    "    indices = np.where(array == 1)\n",
    "\n",
    "    min_y = np.min(indices[0])\n",
    "    max_y = np.max(indices[0])\n",
    "\n",
    "    total_height = max_y - min_y + 1\n",
    "    return total_height\n",
    "\n",
    "\n",
    "def resize_image_by_height(image, new_height):\n",
    "    width, height = image.size\n",
    "    aspect_ratio = width / height\n",
    "    new_width = int(aspect_ratio * new_height)\n",
    "\n",
    "    resized_image = image.resize((new_width, int(new_height)))\n",
    "    return resized_image"
   ]
  },
  {
   "cell_type": "code",
   "execution_count": 5,
   "id": "9acbece4-97e2-4f65-aff6-31a2b5477f28",
   "metadata": {},
   "outputs": [],
   "source": [
    "carla_data = CarlaDataset(\"../../data/carla/train\", False)"
   ]
  },
  {
   "cell_type": "code",
   "execution_count": 6,
   "id": "03492f0a-b37e-4395-adb9-92044cc3d388",
   "metadata": {},
   "outputs": [],
   "source": [
    "animals = [\n",
    "    \"bear\",\n",
    "    \"elephant\",\n",
    "    \"horse\",\n",
    "    \"deer\"\n",
    "]\n",
    "    \n",
    "cameras = [\n",
    "    'left_front_camera',\n",
    "    'front_camera',\n",
    "    'right_front_camera',\n",
    "    'left_back_camera',  \n",
    "    'back_camera',\n",
    "    'right_back_camera'\n",
    "]\n",
    "\n",
    "sizes = [\n",
    "    [2.1, 5.5, 3.5],\n",
    "    [4.3, 10, 6],\n",
    "    [1.75, 3.4, 3.2],\n",
    "    [2.4, 4, 3],\n",
    "]"
   ]
  },
  {
   "cell_type": "code",
   "execution_count": null,
   "id": "7cc22812-ab16-441b-9211-cd7d3b1564bc",
   "metadata": {},
   "outputs": [],
   "source": [
    "data_dir = '../../data/carla/train'\n",
    "save_dir = '../../data/carla/train_aug_2'"
   ]
  },
  {
   "cell_type": "code",
   "execution_count": null,
   "id": "d5237a60-c53d-48f4-8d27-dba1c8aa1e51",
   "metadata": {},
   "outputs": [],
   "source": [
    "for i, (images, intrinsics, extrinsics, labels, oods) in enumerate(tqdm(carla_data)):\n",
    "    agent_number = math.floor(i / carla_data.ticks)\n",
    "    agent_path = os.path.join(data_dir, f\"agents/{agent_number}/\")\n",
    "    save_path = os.path.join(save_dir, f\"agents/{agent_number}/\")\n",
    "    index = (i + carla_data.offset) % carla_data.ticks\n",
    "\n",
    "    os.makedirs(os.path.join(save_path, 'bev_semantic'), exist_ok=True)\n",
    "    \n",
    "    a = random.randrange(0, len(animals))\n",
    "   \n",
    "    for _ in range(10):\n",
    "        size = sizes[a]\n",
    "        trans = [random.randint(5, 40), random.randint(-20, 20), size[2] / 2]\n",
    "        rot = euler_to_quaternion(0, 0, random.randint(0, 360))\n",
    "        \n",
    "        I = intrinsics[0]\n",
    "        E = np.linalg.inv(extrinsics[0])\n",
    "        \n",
    "        bev_ood, cam_ood = draw_box(\n",
    "            trans, rot, size, I, E,\n",
    "            dataset='carla',\n",
    "        )\n",
    "        \n",
    "        road = labels[1].numpy()\n",
    "        road = road[bev_ood.astype(np.bool_)]\n",
    "\n",
    "        if np.sum(road) > 0:\n",
    "            break\n",
    "        \n",
    "    file = random.choice(os.listdir(f\"./pseudo_new/{animals[a]}/\"))\n",
    "    ood = Image.open(f\"./pseudo_new/{animals[a]}/{file}\")\n",
    "    \n",
    "    if random.choice([True, False]):\n",
    "        trans[0] *= -1              \n",
    "\n",
    "    for i in range(6):\n",
    "        sensor_name = cameras[i]\n",
    "        image = Image.open(os.path.join(agent_path + sensor_name, f'{index}.png'))\n",
    "        \n",
    "        I = intrinsics[i]\n",
    "        E = np.linalg.inv(extrinsics[i])\n",
    "    \n",
    "        bev_ood, cam_ood = draw_box(\n",
    "            trans, rot, size, I, E, \n",
    "            dataset='carla',           \n",
    "        )             \n",
    "        \n",
    "        if np.sum(cam_ood) > 0:           \n",
    "            mean = find_center(cam_ood)\n",
    "            ood = resize_image_by_height(ood, find_total_height(cam_ood) * 1.2)\n",
    "            \n",
    "            x = round(mean[0]) - ood.width // 2\n",
    "            y = round(mean[1]) - ood.height // 2\n",
    "        \n",
    "            image.paste(ood, (x, y), ood)\n",
    "        \n",
    "        os.makedirs(os.path.join(save_path, sensor_name), exist_ok=True)\n",
    "        image.save(os.path.join(save_path + sensor_name, f'{index}.png'))\n",
    "\n",
    "    label = np.array(Image.open(os.path.join(agent_path + \"bev_semantic\", f'{index}.png')))\n",
    "    label[bev_ood == 1, :] = 0\n",
    "    \n",
    "    cv2.imwrite(os.path.join(save_path + \"bev_semantic\", f'{index}.png'), label)\n",
    "                                         "
   ]
  },
  {
   "cell_type": "code",
   "execution_count": null,
   "id": "cfcd42b6-165c-437e-b1de-074ce69b50ce",
   "metadata": {},
   "outputs": [],
   "source": [
    "     "
   ]
  },
  {
   "cell_type": "code",
   "execution_count": null,
   "id": "b795f6bc-75b6-479d-b2d4-cad65ef24e36",
   "metadata": {},
   "outputs": [],
   "source": []
  }
 ],
 "metadata": {
  "kernelspec": {
   "display_name": "Python 3 (ipykernel)",
   "language": "python",
   "name": "python3"
  },
  "language_info": {
   "codemirror_mode": {
    "name": "ipython",
    "version": 3
   },
   "file_extension": ".py",
   "mimetype": "text/x-python",
   "name": "python",
   "nbconvert_exporter": "python",
   "pygments_lexer": "ipython3",
   "version": "3.9.7"
  }
 },
 "nbformat": 4,
 "nbformat_minor": 5
}

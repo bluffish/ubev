{
 "cells": [
  {
   "cell_type": "code",
   "execution_count": 1,
   "id": "0e5441c7-893c-48ad-9886-0a057839a3c1",
   "metadata": {},
   "outputs": [],
   "source": [
    "%load_ext autoreload\n",
    "%autoreload 2"
   ]
  },
  {
   "cell_type": "code",
   "execution_count": 2,
   "id": "89cdfbbd-d2b3-4a5a-a35d-fc9fc78042e9",
   "metadata": {},
   "outputs": [],
   "source": [
    "import os\n",
    "os.environ[\"CUDA_DEVICE_ORDER\"] = \"PCI_BUS_ID\"\n",
    "\n",
    "import sys\n",
    "module_path = os.path.abspath(os.path.join('..'))\n",
    "if module_path not in sys.path:\n",
    "    sys.path.append(module_path)"
   ]
  },
  {
   "cell_type": "code",
   "execution_count": 22,
   "id": "a904577f-11ed-47c4-b435-ae5630e24979",
   "metadata": {},
   "outputs": [],
   "source": [
    "import torch\n",
    "import numpy as np\n",
    "from tools.loss import *\n",
    "from scipy.ndimage import distance_transform_edt"
   ]
  },
  {
   "cell_type": "code",
   "execution_count": 4,
   "id": "8effd906-7334-43f2-a4dd-71148b76c261",
   "metadata": {},
   "outputs": [],
   "source": [
    "def batched_distance_to_nearest_true(masks):\n",
    "    batch_size = masks.size(0)\n",
    "    # Prepare a list to store the results for each item in the batch\n",
    "    distances_batch = []\n",
    "\n",
    "    for i in range(batch_size):\n",
    "        # Process each mask in the batch\n",
    "        mask_np = masks[i].cpu().numpy()\n",
    "        inverted_mask = np.logical_not(mask_np)\n",
    "        distances = distance_transform_edt(inverted_mask)\n",
    "        distances_batch.append(torch.from_numpy(distances))\n",
    "\n",
    "    # Stack the results to form a batched tensor\n",
    "    return torch.stack(distances_batch, dim=0)\n"
   ]
  },
  {
   "cell_type": "code",
   "execution_count": 9,
   "id": "e89e9e81-f818-469b-9004-6d25dc2c945d",
   "metadata": {},
   "outputs": [
    {
     "data": {
      "text/plain": [
       "tensor([[[1.0000, 0.0000, 1.0000],\n",
       "         [0.0000, 1.0000, 1.4142],\n",
       "         [1.0000, 1.4142, 2.2361]],\n",
       "\n",
       "        [[1.0000, 0.0000, 1.0000],\n",
       "         [0.0000, 1.0000, 1.4142],\n",
       "         [1.0000, 1.4142, 2.2361]]], dtype=torch.float64)"
      ]
     },
     "execution_count": 9,
     "metadata": {},
     "output_type": "execute_result"
    }
   ],
   "source": [
    "distance_to_nearest_true(torch.tensor([\n",
    "    [[0, 1, 0],\n",
    "    [1, 0, 0],\n",
    "    [0, 0, 0]],\n",
    "    [[0, 1, 0],\n",
    "    [1, 0, 0],\n",
    "    [0, 0, 0]],\n",
    "]))"
   ]
  },
  {
   "cell_type": "code",
   "execution_count": 19,
   "id": "49cb8710-da6d-4002-b1be-8b7d271be9bc",
   "metadata": {},
   "outputs": [],
   "source": [
    "random_tensor = torch.zeros((32, 200, 200))"
   ]
  },
  {
   "cell_type": "code",
   "execution_count": 20,
   "id": "88e8cf22-099f-46ad-97e0-baeb4eb769db",
   "metadata": {},
   "outputs": [],
   "source": [
    "# random_tensor[:, 80:120, 80:120] = 1"
   ]
  },
  {
   "cell_type": "code",
   "execution_count": 21,
   "id": "b1111c20-1b73-4522-afa5-6eb6e572d8ba",
   "metadata": {},
   "outputs": [
    {
     "data": {
      "text/plain": [
       "tensor([[[  1.0000,   1.4142,   2.2361,  ..., 197.0025, 198.0025, 199.0025],\n",
       "         [  1.4142,   1.7321,   2.4495,  ..., 197.0051, 198.0051, 199.0050],\n",
       "         [  2.2361,   2.4495,   3.0000,  ..., 197.0127, 198.0126, 199.0126],\n",
       "         ...,\n",
       "         [197.0025, 197.0051, 197.0127,  ..., 278.6019, 279.3099, 280.0196],\n",
       "         [198.0025, 198.0051, 198.0126,  ..., 279.3099, 280.0161, 280.7241],\n",
       "         [199.0025, 199.0050, 199.0126,  ..., 280.0196, 280.7241, 281.4303]],\n",
       "\n",
       "        [[  2.0000,   2.2361,   2.8284,  ..., 197.0102, 198.0101, 199.0100],\n",
       "         [  2.2361,   2.4495,   3.0000,  ..., 197.0127, 198.0126, 199.0126],\n",
       "         [  2.8284,   3.0000,   3.4641,  ..., 197.0203, 198.0202, 199.0201],\n",
       "         ...,\n",
       "         [197.0102, 197.0127, 197.0203,  ..., 278.6073, 279.3152, 280.0250],\n",
       "         [198.0101, 198.0126, 198.0202,  ..., 279.3152, 280.0214, 280.7294],\n",
       "         [199.0100, 199.0126, 199.0201,  ..., 280.0250, 280.7294, 281.4356]],\n",
       "\n",
       "        [[  3.0000,   3.1623,   3.6056,  ..., 197.0228, 198.0227, 199.0226],\n",
       "         [  3.1623,   3.3166,   3.7417,  ..., 197.0254, 198.0253, 199.0251],\n",
       "         [  3.6056,   3.7417,   4.1231,  ..., 197.0330, 198.0328, 199.0327],\n",
       "         ...,\n",
       "         [197.0228, 197.0254, 197.0330,  ..., 278.6162, 279.3242, 280.0339],\n",
       "         [198.0227, 198.0253, 198.0328,  ..., 279.3242, 280.0304, 280.7383],\n",
       "         [199.0226, 199.0251, 199.0327,  ..., 280.0339, 280.7383, 281.4445]],\n",
       "\n",
       "        ...,\n",
       "\n",
       "        [[ 30.0000,  30.0167,  30.0666,  ..., 199.2712, 200.2598, 201.2486],\n",
       "         [ 30.0167,  30.0333,  30.0832,  ..., 199.2737, 200.2623, 201.2511],\n",
       "         [ 30.0666,  30.0832,  30.1330,  ..., 199.2812, 200.2698, 201.2585],\n",
       "         ...,\n",
       "         [199.2712, 199.2737, 199.2812,  ..., 280.2106, 280.9146, 281.6203],\n",
       "         [200.2598, 200.2623, 200.2698,  ..., 280.9146, 281.6168, 282.3207],\n",
       "         [201.2486, 201.2511, 201.2585,  ..., 281.6203, 282.3207, 283.0230]],\n",
       "\n",
       "        [[ 31.0000,  31.0161,  31.0644,  ..., 199.4242, 200.4121, 201.4001],\n",
       "         [ 31.0161,  31.0322,  31.0805,  ..., 199.4267, 200.4146, 201.4026],\n",
       "         [ 31.0644,  31.0805,  31.1288,  ..., 199.4342, 200.4221, 201.4100],\n",
       "         ...,\n",
       "         [199.4242, 199.4267, 199.4342,  ..., 280.3195, 281.0231, 281.7286],\n",
       "         [200.4121, 200.4146, 200.4221,  ..., 281.0231, 281.7250, 282.4288],\n",
       "         [201.4001, 201.4026, 201.4100,  ..., 281.7286, 282.4288, 283.1307]],\n",
       "\n",
       "        [[ 32.0000,  32.0156,  32.0624,  ..., 199.5821, 200.5692, 201.5564],\n",
       "         [ 32.0156,  32.0312,  32.0780,  ..., 199.5846, 200.5717, 201.5589],\n",
       "         [ 32.0624,  32.0780,  32.1248,  ..., 199.5921, 200.5792, 201.5664],\n",
       "         ...,\n",
       "         [199.5821, 199.5846, 199.5921,  ..., 280.4318, 281.1352, 281.8404],\n",
       "         [200.5692, 200.5717, 200.5792,  ..., 281.1352, 281.8368, 282.5403],\n",
       "         [201.5564, 201.5589, 201.5664,  ..., 281.8404, 282.5403, 283.2419]]],\n",
       "       dtype=torch.float64)"
      ]
     },
     "execution_count": 21,
     "metadata": {},
     "output_type": "execute_result"
    }
   ],
   "source": [
    "distance_to_nearest_true(random_tensor)"
   ]
  },
  {
   "cell_type": "code",
   "execution_count": 29,
   "id": "fbf89beb-8793-413b-a2e0-d35f2458a67c",
   "metadata": {},
   "outputs": [],
   "source": [
    "t = torch.tensor([[5, 1, 1]])\n",
    "l = torch.tensor([[1, 0, 0]])"
   ]
  },
  {
   "cell_type": "code",
   "execution_count": 30,
   "id": "2a9268d0-9c92-4065-8b80-303bca04732f",
   "metadata": {},
   "outputs": [
    {
     "data": {
      "text/plain": [
       "tensor([[1.0000e-10]])"
      ]
     },
     "execution_count": 30,
     "metadata": {},
     "output_type": "execute_result"
    }
   ],
   "source": [
    "uce_loss(t, l)"
   ]
  },
  {
   "cell_type": "code",
   "execution_count": null,
   "id": "1d200a29-fe7d-4d15-a0fc-46c801350fd3",
   "metadata": {},
   "outputs": [],
   "source": []
  }
 ],
 "metadata": {
  "kernelspec": {
   "display_name": "ubev",
   "language": "python",
   "name": "ubev"
  },
  "language_info": {
   "codemirror_mode": {
    "name": "ipython",
    "version": 3
   },
   "file_extension": ".py",
   "mimetype": "text/x-python",
   "name": "python",
   "nbconvert_exporter": "python",
   "pygments_lexer": "ipython3",
   "version": "3.9.7"
  }
 },
 "nbformat": 4,
 "nbformat_minor": 5
}

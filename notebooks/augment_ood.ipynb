{
 "cells": [
  {
   "cell_type": "code",
   "execution_count": 1,
   "metadata": {
    "ExecuteTime": {
     "start_time": "2023-06-18T15:49:05.351801441Z"
    },
    "slideshow": {
     "slide_type": ""
    },
    "tags": []
   },
   "outputs": [],
   "source": [
    "%reload_ext autoreload\n",
    "%autoreload 2"
   ]
  },
  {
   "cell_type": "code",
   "execution_count": 2,
   "metadata": {},
   "outputs": [],
   "source": [
    "import os\n",
    "import sys\n",
    "module_path = os.path.abspath(os.path.join('..'))\n",
    "if module_path not in sys.path:\n",
    "    sys.path.append(module_path)"
   ]
  },
  {
   "cell_type": "code",
   "execution_count": null,
   "metadata": {
    "ExecuteTime": {
     "start_time": "2023-06-18T15:49:02.908168082Z"
    }
   },
   "outputs": [],
   "source": [
    "from datasets.nuscenes_ood import *\n",
    "from tools.utils import *\n",
    "\n",
    "import torch.nn.functional as F\n",
    "\n",
    "%matplotlib inline\n",
    "import matplotlib.pyplot as plt"
   ]
  },
  {
   "cell_type": "code",
   "execution_count": 4,
   "metadata": {},
   "outputs": [],
   "source": [
    "nusc, dataroot = get_nusc(\"mini\", \"../../data/nuscenes\")\n",
    "val_data = NuScenesDatasetOOD(nusc, False)"
   ]
  },
  {
   "cell_type": "code",
   "execution_count": null,
   "metadata": {},
   "outputs": [],
   "source": [
    "images, intrinsics, extrinsics, labels, oods, cam_oods = val_data[0]"
   ]
  },
  {
   "cell_type": "code",
   "execution_count": null,
   "metadata": {},
   "outputs": [],
   "source": [
    "label_image = map_rgb(torch.tensor(labels), ego=True).astype(np.uint8)\n",
    "label_image[oods == 1, :] = 255\n",
    "\n",
    "plt.imshow(label_image)\n",
    "plt.axis(\"off\")"
   ]
  },
  {
   "cell_type": "code",
   "execution_count": 1,
   "metadata": {},
   "outputs": [
    {
     "ename": "NameError",
     "evalue": "name 'plt' is not defined",
     "output_type": "error",
     "traceback": [
      "\u001b[0;31m---------------------------------------------------------------------------\u001b[0m",
      "\u001b[0;31mNameError\u001b[0m                                 Traceback (most recent call last)",
      "\u001b[0;32m/tmp/ipykernel_3701889/2458555095.py\u001b[0m in \u001b[0;36m<module>\u001b[0;34m\u001b[0m\n\u001b[0;32m----> 1\u001b[0;31m \u001b[0mfig\u001b[0m\u001b[0;34m,\u001b[0m \u001b[0maxes\u001b[0m \u001b[0;34m=\u001b[0m \u001b[0mplt\u001b[0m\u001b[0;34m.\u001b[0m\u001b[0msubplots\u001b[0m\u001b[0;34m(\u001b[0m\u001b[0;36m2\u001b[0m\u001b[0;34m,\u001b[0m \u001b[0;36m3\u001b[0m\u001b[0;34m,\u001b[0m \u001b[0mfigsize\u001b[0m\u001b[0;34m=\u001b[0m\u001b[0;34m(\u001b[0m\u001b[0;36m6\u001b[0m\u001b[0;34m,\u001b[0m \u001b[0;36m2\u001b[0m\u001b[0;34m)\u001b[0m\u001b[0;34m)\u001b[0m\u001b[0;34m\u001b[0m\u001b[0;34m\u001b[0m\u001b[0m\n\u001b[0m\u001b[1;32m      2\u001b[0m \u001b[0;34m\u001b[0m\u001b[0m\n\u001b[1;32m      3\u001b[0m \u001b[0;32mfor\u001b[0m \u001b[0mi\u001b[0m\u001b[0;34m,\u001b[0m \u001b[0max\u001b[0m \u001b[0;32min\u001b[0m \u001b[0menumerate\u001b[0m\u001b[0;34m(\u001b[0m\u001b[0maxes\u001b[0m\u001b[0;34m.\u001b[0m\u001b[0mflatten\u001b[0m\u001b[0;34m(\u001b[0m\u001b[0;34m)\u001b[0m\u001b[0;34m)\u001b[0m\u001b[0;34m:\u001b[0m\u001b[0;34m\u001b[0m\u001b[0;34m\u001b[0m\u001b[0m\n\u001b[1;32m      4\u001b[0m     \u001b[0max\u001b[0m\u001b[0;34m.\u001b[0m\u001b[0maxis\u001b[0m\u001b[0;34m(\u001b[0m\u001b[0;34m'off'\u001b[0m\u001b[0;34m)\u001b[0m\u001b[0;34m\u001b[0m\u001b[0;34m\u001b[0m\u001b[0m\n\u001b[1;32m      5\u001b[0m     \u001b[0mimages\u001b[0m\u001b[0;34m[\u001b[0m\u001b[0mi\u001b[0m\u001b[0;34m,\u001b[0m \u001b[0;34m:\u001b[0m\u001b[0;34m,\u001b[0m \u001b[0mcam_oods\u001b[0m\u001b[0;34m[\u001b[0m\u001b[0mi\u001b[0m\u001b[0;34m]\u001b[0m \u001b[0;34m==\u001b[0m \u001b[0;36m1\u001b[0m\u001b[0;34m]\u001b[0m \u001b[0;34m=\u001b[0m \u001b[0;36m0\u001b[0m\u001b[0;34m\u001b[0m\u001b[0;34m\u001b[0m\u001b[0m\n",
      "\u001b[0;31mNameError\u001b[0m: name 'plt' is not defined"
     ]
    }
   ],
   "source": [
    "fig, axes = plt.subplots(2, 3, figsize=(6, 2))\n",
    "\n",
    "for i, ax in enumerate(axes.flatten()):\n",
    "    ax.axis('off')\n",
    "    images[i, :, cam_oods[i] == 1] = 0\n",
    "    ax.imshow(images[i].permute(1, 2, 0).numpy())\n",
    "    \n",
    "plt.tight_layout()"
   ]
  },
  {
   "cell_type": "code",
   "execution_count": null,
   "metadata": {},
   "outputs": [],
   "source": [
    "from diffusers import StableDiffusionInpaintPipeline\n",
    "from xformers.ops import MemoryEfficientAttentionFlashAttentionOp\n",
    "\n",
    "# pipe = StableDiffusionInpaintPipeline.from_pretrained(\n",
    "#     \"runwayml/stable-diffusion-inpainting\",\n",
    "#     revision=\"fp16\",\n",
    "#     torch_dtype=torch.float16,\n",
    "# )\n",
    "\n",
    "pipe = StableDiffusionInpaintPipeline.from_pretrained(\n",
    "    \"stabilityai/stable-diffusion-2-inpainting\",\n",
    "    torch_dtype=torch.float16,\n",
    ")\n",
    "\n",
    "pipe.enable_xformers_memory_efficient_attention(attention_op=MemoryEfficientAttentionFlashAttentionOp)\n",
    "pipe.vae.enable_xformers_memory_efficient_attention(attention_op=None)\n",
    "pipe = pipe.to(0)"
   ]
  },
  {
   "cell_type": "code",
   "execution_count": null,
   "metadata": {},
   "outputs": [],
   "source": [
    "\n",
    "ci=1\n",
    "image = images[ci].unsqueeze(0)\n",
    "mask = torch.tensor(cam_oods[ci])[None].unsqueeze(0)\n",
    "\n",
    "padding_top = 128 \n",
    "padding_bottom = 128 \n",
    "\n",
    "image_p = F.pad(image, (0, 0, padding_top, padding_bottom), 'constant', 0)\n",
    "mask_p = F.pad(mask, (0, 0, padding_top, padding_bottom), 'constant', 0)\n",
    "image_p = F.interpolate(image_p, size=(512, 512), mode='bilinear', align_corners=False) * 2 - 1\n",
    "mask_p = F.interpolate(mask_p, size=(512, 512), mode='bilinear', align_corners=False)\n"
   ]
  },
  {
   "cell_type": "code",
   "execution_count": null,
   "metadata": {},
   "outputs": [],
   "source": [
    "print(image_p.shape, mask_p.shape)"
   ]
  },
  {
   "cell_type": "code",
   "execution_count": null,
   "metadata": {},
   "outputs": [],
   "source": [
    "image_r = F.interpolate(image, scale_factor=2, mode='bilinear', align_corners=False) \n",
    "mask_r = F.interpolate(mask, scale_factor=2, mode='bilinear', align_corners=False) \n",
    "\n",
    "# prompt = \"One Brown bear, photorealistic, standing on the road, whole body visible, as large as possible\"\n",
    "prompt = \"Single grey car, photorealistic, on the road, as large as possible\"\n",
    "\n",
    "result = pipe(\n",
    "    prompt=prompt,\n",
    "    image=image_r * 2 - 1, \n",
    "    mask_image=mask_r,\n",
    "    width=960, height=448,\n",
    "    output_type='np',\n",
    "    strength=1.\n",
    ")\n"
   ]
  },
  {
   "cell_type": "code",
   "execution_count": null,
   "metadata": {},
   "outputs": [],
   "source": [
    "r = torch.tensor(result.images[0])[None].permute(0, 3, 1, 2)\n",
    "r = F.interpolate(r, scale_factor=.5, mode='bilinear', align_corners=False) \n",
    "images[ci] = r\n",
    "\n",
    "fig, axes = plt.subplots(2, 3, figsize=(6, 2))\n",
    "\n",
    "for i, ax in enumerate(axes.flatten()):\n",
    "    ax.axis('off')\n",
    "    ax.imshow(images[i].permute(1, 2, 0).numpy())\n",
    "\n",
    "plt.tight_layout()"
   ]
  },
  {
   "cell_type": "code",
   "execution_count": null,
   "metadata": {},
   "outputs": [],
   "source": [
    "from models.evidential import Evidential"
   ]
  },
  {
   "cell_type": "code",
   "execution_count": null,
   "metadata": {},
   "outputs": [],
   "source": [
    "model = Evidential([0])\n",
    "model.load(torch.load('../nuscenes/fiery_evidential/9.pt'))"
   ]
  },
  {
   "cell_type": "code",
   "execution_count": null,
   "metadata": {},
   "outputs": [],
   "source": [
    "out = model(images[None], intrinsics[None], extrinsics[None])"
   ]
  },
  {
   "cell_type": "code",
   "execution_count": null,
   "metadata": {},
   "outputs": [],
   "source": [
    "preds = model.activate(out)"
   ]
  },
  {
   "cell_type": "code",
   "execution_count": null,
   "metadata": {},
   "outputs": [],
   "source": [
    "plt.imshow(map_rgb(preds[0], ego=True) / 255.)\n",
    "plt.axis(\"off\")"
   ]
  },
  {
   "cell_type": "code",
   "execution_count": null,
   "metadata": {},
   "outputs": [],
   "source": [
    "e = model.aleatoric(out)[0][0].detach().cpu()\n",
    "e /= torch.max(e)\n",
    "plt.imshow(plt.cm.jet(e))\n",
    "plt.axis('off')"
   ]
  },
  {
   "cell_type": "code",
   "execution_count": null,
   "metadata": {},
   "outputs": [],
   "source": []
  }
 ],
 "metadata": {
  "kernelspec": {
   "display_name": "Python 3 (ipykernel)",
   "language": "python",
   "name": "python3"
  },
  "language_info": {
   "codemirror_mode": {
    "name": "ipython",
    "version": 3
   },
   "file_extension": ".py",
   "mimetype": "text/x-python",
   "name": "python",
   "nbconvert_exporter": "python",
   "pygments_lexer": "ipython3",
   "version": "3.9.7"
  }
 },
 "nbformat": 4,
 "nbformat_minor": 4
}

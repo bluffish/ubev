{
 "cells": [
  {
   "cell_type": "code",
   "execution_count": 1,
   "id": "65f179e2-eed8-410f-b422-2ef3b0238845",
   "metadata": {},
   "outputs": [],
   "source": [
    "%load_ext autoreload\n",
    "%autoreload 2"
   ]
  },
  {
   "cell_type": "code",
   "execution_count": 2,
   "id": "00b2f0b0-641e-4f6f-848e-42103bd0ee39",
   "metadata": {},
   "outputs": [],
   "source": [
    "import os\n",
    "import sys\n",
    "module_path = os.path.abspath(os.path.join('..'))\n",
    "if module_path not in sys.path:\n",
    "    sys.path.append(module_path)"
   ]
  },
  {
   "cell_type": "code",
   "execution_count": 3,
   "id": "b3ef9708-4080-4029-a918-bed328e388aa",
   "metadata": {},
   "outputs": [],
   "source": [
    "from datasets.nuscenes import compile_data\n",
    "from datasets.nuscenes_ood import compile_data as compile_data_ood\n",
    "from models.baseline import *\n",
    "from models.evidential import *\n",
    "\n",
    "import tools.loss\n",
    "\n",
    "from time import time"
   ]
  },
  {
   "cell_type": "code",
   "execution_count": 4,
   "id": "5c645aab-a8f6-408d-a0b8-1acdee9acd39",
   "metadata": {},
   "outputs": [],
   "source": [
    "num_workers = [1, 2, 4, 8, 16, 32, 64]\n",
    "split = 'mini'\n",
    "DATAROOT = \"../../data/nuscenes\""
   ]
  },
  {
   "cell_type": "code",
   "execution_count": 24,
   "id": "7fdc860a-6f4b-4b5a-9f15-e2023cbb0489",
   "metadata": {},
   "outputs": [],
   "source": [
    "tl, vl = compile_data(split, DATAROOT, num_workers=32, batch_size=2)"
   ]
  },
  {
   "cell_type": "code",
   "execution_count": 6,
   "id": "9d73c954-7ddd-4fd5-84ec-55a4322dbd30",
   "metadata": {},
   "outputs": [],
   "source": [
    "images, intrinsics, extrinsics, labels = tl.dataset[100]"
   ]
  },
  {
   "cell_type": "code",
   "execution_count": 7,
   "id": "681a89cb-da37-4cd5-8a06-f55a172843a8",
   "metadata": {},
   "outputs": [],
   "source": [
    "from tools.utils import *\n",
    "%matplotlib inline\n",
    "import matplotlib.pyplot as plt"
   ]
  },
  {
   "cell_type": "code",
   "execution_count": 8,
   "id": "8bdc9f05-ec97-44e8-b60d-f20a3f130beb",
   "metadata": {},
   "outputs": [
    {
     "data": {
      "text/plain": [
       "<matplotlib.image.AxesImage at 0x7fe25373ebe0>"
      ]
     },
     "execution_count": 8,
     "metadata": {},
     "output_type": "execute_result"
    },
    {
     "data": {
      "image/png": "[encoded data removed]",
      "text/plain": [
       "<Figure size 640x480 with 1 Axes>"
      ]
     },
     "metadata": {},
     "output_type": "display_data"
    }
   ],
   "source": [
    "plt.imshow(map_rgb(torch.tensor(labels)) / 255)"
   ]
  },
  {
   "cell_type": "code",
   "execution_count": 9,
   "id": "7decb5fa-67d5-4cc4-8b44-c075053a852f",
   "metadata": {},
   "outputs": [
    {
     "name": "stdout",
     "output_type": "stream",
     "text": [
      "Loaded pretrained weights for efficientnet-b4\n"
     ]
    }
   ],
   "source": [
    "model = Baseline([7], loss_type='focal')\n",
    "model.load(torch.load(\"../nuscenes/fiery_baseline/9.pt\"))"
   ]
  },
  {
   "cell_type": "code",
   "execution_count": 26,
   "id": "638536c7-2dad-45d0-a17d-ea84f7c72fe2",
   "metadata": {},
   "outputs": [
    {
     "name": "stdout",
     "output_type": "stream",
     "text": [
      "torch.Size([2, 4, 200, 200])\n"
     ]
    }
   ],
   "source": [
    "for images, intrinsics, extrinsics, labels in vl:\n",
    "    print(labels.shape)\n",
    "    break\n",
    "\n",
    "outs = model(images, intrinsics, extrinsics)"
   ]
  },
  {
   "cell_type": "code",
   "execution_count": 27,
   "id": "deb172b0-7aa5-407e-8080-89d9f69ca5c9",
   "metadata": {},
   "outputs": [],
   "source": [
    "preds = model.activate(outs)"
   ]
  },
  {
   "cell_type": "code",
   "execution_count": 37,
   "id": "24400872-e79f-471e-b5b2-9dba46f91a68",
   "metadata": {},
   "outputs": [
    {
     "name": "stdout",
     "output_type": "stream",
     "text": [
      "torch.Size([2, 4, 200, 200])\n"
     ]
    },
    {
     "data": {
      "text/plain": [
       "tensor(0.7043, device='cuda:7', dtype=torch.float64, grad_fn=<MeanBackward0>)"
      ]
     },
     "execution_count": 37,
     "metadata": {},
     "output_type": "execute_result"
    }
   ],
   "source": [
    "model.loss_type = 'focal'\n",
    "model.loss(outs, labels.to(7))"
   ]
  },
  {
   "cell_type": "code",
   "execution_count": null,
   "id": "a4862baa-99cc-4e3f-9b91-12ae07b606e6",
   "metadata": {},
   "outputs": [],
   "source": [
    "import torch.nn.functional as F"
   ]
  },
  {
   "cell_type": "code",
   "execution_count": 19,
   "id": "5ec02098-9cee-4fe5-921f-0e843c15de6a",
   "metadata": {},
   "outputs": [
    {
     "data": {
      "text/plain": [
       "device(type='cpu')"
      ]
     },
     "execution_count": 19,
     "metadata": {},
     "output_type": "execute_result"
    }
   ],
   "source": [
    "outs = outs.detach().cpu()\n",
    "outs.device"
   ]
  },
  {
   "cell_type": "code",
   "execution_count": 21,
   "id": "33cf144e-136c-49ca-9a58-3fc7dfa6f0f5",
   "metadata": {},
   "outputs": [
    {
     "data": {
      "text/plain": [
       "device(type='cpu')"
      ]
     },
     "execution_count": 21,
     "metadata": {},
     "output_type": "execute_result"
    }
   ],
   "source": [
    "tl = torch.tensor(labels[None])\n",
    "tl.device"
   ]
  },
  {
   "cell_type": "code",
   "execution_count": 27,
   "id": "6a1047cb-6af4-47a5-b927-8c400adea3ac",
   "metadata": {},
   "outputs": [
    {
     "data": {
      "text/plain": [
       "tensor(1.3922, dtype=torch.float64)"
      ]
     },
     "execution_count": 27,
     "metadata": {},
     "output_type": "execute_result"
    }
   ],
   "source": [
    "F.cross_entropy(outs, tl)"
   ]
  },
  {
   "cell_type": "code",
   "execution_count": 25,
   "id": "6914771a-596a-4795-9dae-d54b205bc164",
   "metadata": {},
   "outputs": [
    {
     "data": {
      "text/plain": [
       "torch.Size([1, 200, 200])"
      ]
     },
     "execution_count": 25,
     "metadata": {},
     "output_type": "execute_result"
    }
   ],
   "source": [
    "tl.shape\n",
    "artl = tl.argmax(dim=1)\n",
    "artl.shape"
   ]
  },
  {
   "cell_type": "code",
   "execution_count": 29,
   "id": "a36bf0a7-b854-434b-a91a-5146af6d8a2c",
   "metadata": {},
   "outputs": [
    {
     "data": {
      "text/plain": [
       "tensor([inf])"
      ]
     },
     "execution_count": 29,
     "metadata": {},
     "output_type": "execute_result"
    }
   ],
   "source": [
    "gamma(torch.tensor([0]))"
   ]
  },
  {
   "cell_type": "code",
   "execution_count": 16,
   "id": "fd14f9c1-05ec-41d5-b1f2-34bba2696dd6",
   "metadata": {},
   "outputs": [
    {
     "ename": "RuntimeError",
     "evalue": "The size of tensor a (200) must match the size of tensor b (4) at non-singleton dimension 3",
     "output_type": "error",
     "traceback": [
      "\u001b[0;31m---------------------------------------------------------------------------\u001b[0m",
      "\u001b[0;31mRuntimeError\u001b[0m                              Traceback (most recent call last)",
      "Cell \u001b[0;32mIn[16], line 6\u001b[0m\n\u001b[1;32m      3\u001b[0m tensor2 \u001b[38;5;241m=\u001b[39m torch\u001b[38;5;241m.\u001b[39mrand([\u001b[38;5;241m1\u001b[39m, \u001b[38;5;241m4\u001b[39m])           \u001b[38;5;66;03m# Example tensor with shape [1, 4]\u001b[39;00m\n\u001b[1;32m      5\u001b[0m \u001b[38;5;66;03m# Element-wise multiplication using automatic broadcasting\u001b[39;00m\n\u001b[0;32m----> 6\u001b[0m result \u001b[38;5;241m=\u001b[39m \u001b[43mtensor1\u001b[49m\u001b[43m \u001b[49m\u001b[38;5;241;43m*\u001b[39;49m\u001b[43m \u001b[49m\u001b[43mtensor2\u001b[49m \u001b[38;5;66;03m# You can also use torch.mul(tensor1, tensor2)\u001b[39;00m\n\u001b[1;32m      8\u001b[0m \u001b[38;5;28mprint\u001b[39m(result\u001b[38;5;241m.\u001b[39mshape) \u001b[38;5;66;03m# Output shape will be [1, 4, 200, 200]\u001b[39;00m\n",
      "\u001b[0;31mRuntimeError\u001b[0m: The size of tensor a (200) must match the size of tensor b (4) at non-singleton dimension 3"
     ]
    }
   ],
   "source": []
  },
  {
   "cell_type": "code",
   "execution_count": null,
   "id": "9a949307-18ef-40f3-b610-a9ed76f564e3",
   "metadata": {},
   "outputs": [],
   "source": []
  }
 ],
 "metadata": {
  "kernelspec": {
   "display_name": "Python 3 (ipykernel)",
   "language": "python",
   "name": "python3"
  },
  "language_info": {
   "codemirror_mode": {
    "name": "ipython",
    "version": 3
   },
   "file_extension": ".py",
   "mimetype": "text/x-python",
   "name": "python",
   "nbconvert_exporter": "python",
   "pygments_lexer": "ipython3",
   "version": "3.9.7"
  }
 },
 "nbformat": 4,
 "nbformat_minor": 5
}

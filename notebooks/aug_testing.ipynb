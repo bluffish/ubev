{
 "cells": [
  {
   "cell_type": "code",
   "execution_count": 7,
   "id": "968f006b-2f93-4953-abcf-17516bd58701",
   "metadata": {},
   "outputs": [
    {
     "name": "stdout",
     "output_type": "stream",
     "text": [
      "The autoreload extension is already loaded. To reload it, use:\n",
      "  %reload_ext autoreload\n"
     ]
    }
   ],
   "source": [
    "%load_ext autoreload\n",
    "%autoreload 2"
   ]
  },
  {
   "cell_type": "code",
   "execution_count": 8,
   "id": "5e67e15f-49f3-43a5-b1f6-8b5e37ca9b5c",
   "metadata": {},
   "outputs": [],
   "source": [
    "import os\n",
    "os.environ[\"CUDA_DEVICE_ORDER\"] = \"PCI_BUS_ID\"\n",
    "\n",
    "import sys\n",
    "module_path = os.path.abspath(os.path.join('..'))\n",
    "if module_path not in sys.path:\n",
    "    sys.path.append(module_path)"
   ]
  },
  {
   "cell_type": "code",
   "execution_count": 9,
   "id": "784424c5-f9de-4d70-aad4-329d6ab6ae19",
   "metadata": {},
   "outputs": [],
   "source": [
    "from datasets.carla import *\n",
    "from tools.utils import *\n",
    "from tools.loss import *\n",
    "\n",
    "%matplotlib inline\n",
    "import matplotlib.pyplot as plt\n",
    "\n",
    "from numpy.linalg import inv"
   ]
  },
  {
   "cell_type": "code",
   "execution_count": null,
   "id": "91834b65-b65e-472e-baeb-1adbd02e26ac",
   "metadata": {},
   "outputs": [],
   "source": []
  },
  {
   "cell_type": "code",
   "execution_count": null,
   "id": "119176f2-6a65-4943-b417-50e3789abccd",
   "metadata": {},
   "outputs": [],
   "source": []
  },
  {
   "cell_type": "code",
   "execution_count": 12,
   "id": "d37b7a14-d275-42fa-b5e1-83d7e1464362",
   "metadata": {},
   "outputs": [
    {
     "data": {
      "text/plain": [
       "array([0. , 0.1, 0.2, 0.3, 0.4, 0.5, 0.6, 0.7, 0.8, 0.9, 1. ])"
      ]
     },
     "execution_count": 12,
     "metadata": {},
     "output_type": "execute_result"
    }
   ],
   "source": [
    "np.linspace(0, 1, 11)"
   ]
  },
  {
   "cell_type": "code",
   "execution_count": 10,
   "id": "307c43c8-5507-4cee-9875-162f7ca47d97",
   "metadata": {},
   "outputs": [
    {
     "ename": "TypeError",
     "evalue": "__init__() missing 1 required positional argument: 'n_classes'",
     "output_type": "error",
     "traceback": [
      "\u001b[0;31m---------------------------------------------------------------------------\u001b[0m",
      "\u001b[0;31mTypeError\u001b[0m                                 Traceback (most recent call last)",
      "Cell \u001b[0;32mIn[10], line 1\u001b[0m\n\u001b[0;32m----> 1\u001b[0m data \u001b[38;5;241m=\u001b[39m \u001b[43mCarlaDataset\u001b[49m\u001b[43m(\u001b[49m\u001b[38;5;124;43m\"\u001b[39;49m\u001b[38;5;124;43m../../data/carla/ood\u001b[39;49m\u001b[38;5;124;43m\"\u001b[39;49m\u001b[43m,\u001b[49m\u001b[43m \u001b[49m\u001b[38;5;28;43;01mFalse\u001b[39;49;00m\u001b[43m)\u001b[49m\n",
      "\u001b[0;31mTypeError\u001b[0m: __init__() missing 1 required positional argument: 'n_classes'"
     ]
    }
   ],
   "source": [
    "data = CarlaDataset(\"../../data/carla/ood\", False)"
   ]
  },
  {
   "cell_type": "code",
   "execution_count": 6,
   "id": "020171c1-7071-4415-a47c-a31a8c0642d4",
   "metadata": {},
   "outputs": [
    {
     "name": "stdout",
     "output_type": "stream",
     "text": [
      "Loaded pretrained weights for efficientnet-b0\n"
     ]
    }
   ],
   "source": [
    "model = Evidential(backbone=\"lss\", devices=[7])\n",
    "# model.load(torch.load(\"../outputs/aug/19.pt\"))"
   ]
  },
  {
   "cell_type": "code",
   "execution_count": 7,
   "id": "11e4812e-c7bc-4b9b-a40a-93512a444cb1",
   "metadata": {},
   "outputs": [],
   "source": [
    "images, intrinsics, extrinsics, labels, ood = data[256]"
   ]
  },
  {
   "cell_type": "code",
   "execution_count": 8,
   "id": "488daa63-5ab0-420c-b6f1-af6adde0b3de",
   "metadata": {},
   "outputs": [
    {
     "data": {
      "image/png": "[encoded data removed]",
      "text/plain": [
       "<PIL.Image.Image image mode=RGBA size=100x100>"
      ]
     },
     "execution_count": 8,
     "metadata": {},
     "output_type": "execute_result"
    }
   ],
   "source": [
    "bear = Image.open(\"./pseudo/bear/b.png\").resize((100, 100))\n",
    "bear"
   ]
  },
  {
   "cell_type": "code",
   "execution_count": 9,
   "id": "5e7215a6-4a9c-4ce0-9232-d110a51a6217",
   "metadata": {},
   "outputs": [
    {
     "data": {
      "text/plain": [
       "(3, 224, 480)"
      ]
     },
     "execution_count": 9,
     "metadata": {},
     "output_type": "execute_result"
    }
   ],
   "source": [
    "images[1].numpy().shape"
   ]
  },
  {
   "cell_type": "code",
   "execution_count": null,
   "id": "9ae4a3c7-957d-4751-9400-3d2b8ac7cc5e",
   "metadata": {},
   "outputs": [],
   "source": [
    "i = (images[1] * 255).permute(1, 2, 0).numpy().astype(np.uint8)\n",
    "front = Image.fromarray(i) "
   ]
  },
  {
   "cell_type": "code",
   "execution_count": null,
   "id": "3bb1f9c9-c108-4a6f-a160-f6a62d7cee61",
   "metadata": {},
   "outputs": [],
   "source": [
    "front.paste(bear, (250, 100), bear)"
   ]
  },
  {
   "cell_type": "code",
   "execution_count": null,
   "id": "2d1a8a22-fa32-4243-963c-0d3b3e52dbdd",
   "metadata": {},
   "outputs": [],
   "source": [
    "front"
   ]
  },
  {
   "cell_type": "code",
   "execution_count": null,
   "id": "576f5df8-361e-4db8-ab1a-85c742d321f6",
   "metadata": {},
   "outputs": [],
   "source": [
    "images[1] = torch.tensor(np.array(front)).permute(2, 0, 1) / 255."
   ]
  },
  {
   "cell_type": "code",
   "execution_count": null,
   "id": "b949c94e-51ef-42d4-8174-a0b4c6af45d0",
   "metadata": {},
   "outputs": [],
   "source": [
    "images = images[None].to(7)\n",
    "intrinsics = intrinsics[None].to(7)\n",
    "extrinsics = extrinsics[None].to(7)\n",
    "labels = labels[None].to(7)"
   ]
  },
  {
   "cell_type": "code",
   "execution_count": null,
   "id": "faa77b27-25b1-4c5d-817f-9855a609cbb2",
   "metadata": {},
   "outputs": [],
   "source": [
    "alpha = model(images, intrinsics, extrinsics)\n",
    "preds = model.activate(alpha)\n",
    "epist = model.epistemic(alpha)"
   ]
  },
  {
   "cell_type": "code",
   "execution_count": null,
   "id": "fe5fa1f8-b536-4a23-a4af-6e6d577aa8a0",
   "metadata": {},
   "outputs": [],
   "source": [
    "fig, axs = plt.subplots(1, 3, figsize=(8, 8))\n",
    "fig.subplots_adjust(wspace=0, hspace=0)\n",
    "\n",
    "axs[0].imshow(map_rgb(preds[0], ego=True) / 255)\n",
    "axs[1].imshow(epist[0, 0].detach().cpu().numpy(), cmap=\"magma\")\n",
    "axs[2].imshow(ood, cmap=\"magma\")\n",
    "\n",
    "for ax in axs.flatten():\n",
    "    ax.set_xticks([])\n",
    "    ax.set_yticks([])"
   ]
  },
  {
   "cell_type": "code",
   "execution_count": null,
   "id": "4cefbe7b-ff02-47a1-9665-fcac396ac825",
   "metadata": {},
   "outputs": [],
   "source": [
    "ratio = 224/480\n",
    "fig, axs = plt.subplots(2, 3, figsize=(12, 8 * ratio))\n",
    "fig.subplots_adjust(wspace=0, hspace=0)\n",
    "\n",
    "for i, ax in enumerate(axs.flatten()):\n",
    "    image = images[0, i].permute(1, 2, 0).cpu().numpy()\n",
    "    ax.imshow(image)\n",
    "    ax.axis(\"off\")"
   ]
  },
  {
   "cell_type": "code",
   "execution_count": 5,
   "id": "196c80e8-6b1b-4ad7-98db-ac820e4ee63f",
   "metadata": {},
   "outputs": [],
   "source": [
    "a = torch.tensor(0) ** 3"
   ]
  },
  {
   "cell_type": "code",
   "execution_count": 6,
   "id": "4a2693a3-e6d1-4c88-9463-afe04000f8cc",
   "metadata": {},
   "outputs": [
    {
     "data": {
      "text/plain": [
       "tensor(0)"
      ]
     },
     "execution_count": 6,
     "metadata": {},
     "output_type": "execute_result"
    }
   ],
   "source": [
    "a"
   ]
  },
  {
   "cell_type": "code",
   "execution_count": null,
   "id": "5ca318d8-cf58-4ac2-90cf-314b34a41657",
   "metadata": {},
   "outputs": [],
   "source": []
  }
 ],
 "metadata": {
  "kernelspec": {
   "display_name": "Python 3 (ipykernel)",
   "language": "python",
   "name": "python3"
  },
  "language_info": {
   "codemirror_mode": {
    "name": "ipython",
    "version": 3
   },
   "file_extension": ".py",
   "mimetype": "text/x-python",
   "name": "python",
   "nbconvert_exporter": "python",
   "pygments_lexer": "ipython3",
   "version": "3.9.7"
  }
 },
 "nbformat": 4,
 "nbformat_minor": 5
}

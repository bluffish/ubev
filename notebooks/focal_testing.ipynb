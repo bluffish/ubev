{
 "cells": [
  {
   "cell_type": "code",
   "execution_count": 393,
   "id": "7baf76aa-387a-4092-8813-30220cffa5ba",
   "metadata": {},
   "outputs": [
    {
     "name": "stdout",
     "output_type": "stream",
     "text": [
      "The autoreload extension is already loaded. To reload it, use:\n",
      "  %reload_ext autoreload\n"
     ]
    }
   ],
   "source": [
    "%load_ext autoreload\n",
    "%autoreload 2"
   ]
  },
  {
   "cell_type": "code",
   "execution_count": 394,
   "id": "79fccdf4-90d2-4f69-98c1-6628fed2d9f3",
   "metadata": {},
   "outputs": [],
   "source": [
    "import os\n",
    "import sys\n",
    "module_path = os.path.abspath(os.path.join('..'))\n",
    "if module_path not in sys.path:\n",
    "    sys.path.append(module_path)"
   ]
  },
  {
   "cell_type": "code",
   "execution_count": 404,
   "id": "a01987fd-40d5-436b-94a4-960899a1fc6b",
   "metadata": {},
   "outputs": [],
   "source": [
    "from datasets.nuscenes import *\n",
    "from models.evidential import *\n",
    "\n",
    "from tools.utils import *\n",
    "from tools.loss import *\n",
    "\n",
    "%matplotlib inline\n",
    "import matplotlib.pyplot as plt"
   ]
  },
  {
   "cell_type": "code",
   "execution_count": 405,
   "id": "41189205-a69b-46b0-8f1b-f15b7cdfc486",
   "metadata": {},
   "outputs": [
    {
     "name": "stdout",
     "output_type": "stream",
     "text": [
      "Loaded pretrained weights for efficientnet-b0\n"
     ]
    }
   ],
   "source": [
    "nusc, dataroot = get_nusc(\"mini\", \"../../data/nuscenes\")\n",
    "nusc_data = NuScenesDataset(nusc, False)\n",
    "model = Evidential([7], backbone=\"lss\")\n",
    "# model.load(torch.load(\"../outputs/nuscenes/lss_baseline_focal_n0.5/4.pt\"))"
   ]
  },
  {
   "cell_type": "code",
   "execution_count": 406,
   "id": "6ffdee3b-486b-4bfc-b3ac-7aaddfc184c0",
   "metadata": {},
   "outputs": [],
   "source": [
    "images, intrinsics, extrinsics, labels = nusc_data[0]\n",
    "images = images[None].to(7)\n",
    "intrinsics = intrinsics[None].to(7)\n",
    "extrinsics = extrinsics[None].to(7)\n",
    "labels = labels[None].to(7)"
   ]
  },
  {
   "cell_type": "code",
   "execution_count": 437,
   "id": "328bae1e-db43-43b2-9ff8-ec4703b30f79",
   "metadata": {},
   "outputs": [
    {
     "data": {
      "text/plain": [
       "tensor([3., 1., 3., 1.], device='cuda:7')"
      ]
     },
     "execution_count": 437,
     "metadata": {},
     "output_type": "execute_result"
    }
   ],
   "source": [
    "alpha = model(images, intrinsics, extrinsics) \n",
    "preds = model.activate(logits)\n",
    "torch.tensor([3., 1., 3., 1.]).to(7)"
   ]
  },
  {
   "cell_type": "code",
   "execution_count": 440,
   "id": "4b56ad83-74e1-40ec-873f-58dc8d89bd65",
   "metadata": {},
   "outputs": [
    {
     "data": {
      "text/plain": [
       "tensor(0., device='cuda:7', dtype=torch.float64)"
      ]
     },
     "execution_count": 440,
     "metadata": {},
     "output_type": "execute_result"
    }
   ],
   "source": [
    "u_focal_loss_log(alpha, labels, n=2, weights=torch.tensor([3., 3., 3., 3.]).to(7)).mean()"
   ]
  },
  {
   "cell_type": "code",
   "execution_count": 389,
   "id": "0a7fff61-bcc7-411b-990e-b75a2db15532",
   "metadata": {},
   "outputs": [
    {
     "data": {
      "text/plain": [
       "<matplotlib.image.AxesImage at 0x7fdc106ce880>"
      ]
     },
     "execution_count": 389,
     "metadata": {},
     "output_type": "execute_result"
    },
    {
     "data": {
      "image/png": "[encoded data removed]",
      "text/plain": [
       "<Figure size 640x480 with 2 Axes>"
      ]
     },
     "metadata": {},
     "output_type": "display_data"
    }
   ],
   "source": [
    "fig, axs = plt.subplots(1, 2)\n",
    "\n",
    "axs[0].imshow(map_rgb(labels[0]) / 255)\n",
    "axs[1].imshow(map_rgb(preds[0]) / 255)"
   ]
  },
  {
   "cell_type": "code",
   "execution_count": 392,
   "id": "f8eac1a5-d9f8-47e1-9254-aa32e85e26f5",
   "metadata": {},
   "outputs": [
    {
     "data": {
      "text/plain": [
       "tensor([1.0000e+00, 2.0612e-09, 2.0612e-09, 2.0612e-09])"
      ]
     },
     "execution_count": 392,
     "metadata": {},
     "output_type": "execute_result"
    }
   ],
   "source": [
    "torch.softmax(torch.tensor([10., -10., -10., -10.]), dim=0)"
   ]
  },
  {
   "cell_type": "code",
   "execution_count": null,
   "id": "217756d4-f2fa-444e-b4b9-1b0bda10f68b",
   "metadata": {},
   "outputs": [],
   "source": []
  }
 ],
 "metadata": {
  "kernelspec": {
   "display_name": "Python 3 (ipykernel)",
   "language": "python",
   "name": "python3"
  },
  "language_info": {
   "codemirror_mode": {
    "name": "ipython",
    "version": 3
   },
   "file_extension": ".py",
   "mimetype": "text/x-python",
   "name": "python",
   "nbconvert_exporter": "python",
   "pygments_lexer": "ipython3",
   "version": "3.9.7"
  }
 },
 "nbformat": 4,
 "nbformat_minor": 5
}

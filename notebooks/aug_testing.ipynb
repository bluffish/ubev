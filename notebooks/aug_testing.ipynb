{
 "cells": [
  {
   "cell_type": "code",
   "execution_count": null,
   "id": "968f006b-2f93-4953-abcf-17516bd58701",
   "metadata": {},
   "outputs": [],
   "source": [
    "%load_ext autoreload\n",
    "%autoreload 2"
   ]
  },
  {
   "cell_type": "code",
   "execution_count": null,
   "id": "5e67e15f-49f3-43a5-b1f6-8b5e37ca9b5c",
   "metadata": {},
   "outputs": [],
   "source": [
    "import os\n",
    "os.environ[\"CUDA_DEVICE_ORDER\"] = \"PCI_BUS_ID\"\n",
    "\n",
    "import sys\n",
    "module_path = os.path.abspath(os.path.join('..'))\n",
    "if module_path not in sys.path:\n",
    "    sys.path.append(module_path)"
   ]
  },
  {
   "cell_type": "code",
   "execution_count": null,
   "id": "784424c5-f9de-4d70-aad4-329d6ab6ae19",
   "metadata": {},
   "outputs": [],
   "source": [
    "from datasets.lyft import *\n",
    "from datasets.carla import compile_data as cpdc\n",
    "from tools.utils import *\n",
    "from tools.loss import *\n",
    "\n",
    "%matplotlib inline\n",
    "import matplotlib.pyplot as plt\n",
    "\n",
    "from numpy.linalg import inv"
   ]
  },
  {
   "cell_type": "code",
   "execution_count": null,
   "id": "0131bbe0-3326-4571-bff1-b06b4af31ad8",
   "metadata": {},
   "outputs": [],
   "source": [
    "from datasets.nuscenes import compile_data as  cpdn\n"
   ]
  },
  {
   "cell_type": "code",
   "execution_count": null,
   "id": "307c43c8-5507-4cee-9875-162f7ca47d97",
   "metadata": {},
   "outputs": [],
   "source": [
    "loader = compile_data(\"ood\", \"trainval\", \"../../data/lyft\", \"vehicle\")"
   ]
  },
  {
   "cell_type": "code",
   "execution_count": null,
   "id": "3e34d334-98ef-4a6e-ad3f-fe8645168847",
   "metadata": {},
   "outputs": [],
   "source": [
    "len(loader.dataset)"
   ]
  },
  {
   "cell_type": "code",
   "execution_count": null,
   "id": "3b0fc115-3db8-487e-928c-1b44a0c25702",
   "metadata": {},
   "outputs": [],
   "source": [
    "loader_n = cpdn(\"val\", \"mini\", \"../../data/nuscenes\", \"vehicle\")"
   ]
  },
  {
   "cell_type": "code",
   "execution_count": null,
   "id": "020171c1-7071-4415-a47c-a31a8c0642d4",
   "metadata": {},
   "outputs": [],
   "source": [
    "model = Evidential(backbone=\"lss\", devices=[7])\n",
    "# model.load(torch.load(\"../outputs/aug/19.pt\"))"
   ]
  },
  {
   "cell_type": "code",
   "execution_count": null,
   "id": "34e9fd17-e0d2-46e8-a791-b2f7db0aaed6",
   "metadata": {},
   "outputs": [],
   "source": [
    "images, intrinsics, extrinsics, labels, oods = loader.dataset[1]\n",
    "images = images[None].to(7)\n",
    "intrinsics = intrinsics[None].to(7)\n",
    "extrinsics = extrinsics[None].to(7)\n",
    "pts = model.backbone.module.get_geometry(intrinsics, extrinsics).cpu().numpy()"
   ]
  },
  {
   "cell_type": "code",
   "execution_count": null,
   "id": "45c08b6a-176f-4c54-a789-25c5b142ec7e",
   "metadata": {},
   "outputs": [],
   "source": [
    "oods.sum()"
   ]
  },
  {
   "cell_type": "code",
   "execution_count": null,
   "id": "5bdc2bdf-8271-4e54-b013-d1b44af5295e",
   "metadata": {},
   "outputs": [],
   "source": [
    "plt.imshow(1-oods[0].numpy())\n",
    "plt.axis(\"off\")"
   ]
  },
  {
   "cell_type": "code",
   "execution_count": null,
   "id": "5ca318d8-cf58-4ac2-90cf-314b34a41657",
   "metadata": {},
   "outputs": [],
   "source": [
    "# plt.imshow(map_rgb(labels, ego=True) / 255)\n",
    "\n",
    "cam = ['fl', 'f', 'fr', 'bl', 'b', 'br']\n",
    "\n",
    "for i in range(6):\n",
    "    plt.scatter(pts[:, i, :, :, :, 0].reshape(-1) * 2 + 100, pts[:, i, :, :, :, 1].reshape(-1) * 2+ 100, s=15, label=cam[i], alpha=.2, edgecolors='face')\n",
    "\n",
    "plt.xlim(0, 250)\n",
    "# plt.ylim(0, 200)\n",
    "plt.legend(loc='upper right')"
   ]
  },
  {
   "cell_type": "code",
   "execution_count": null,
   "id": "7814a894-9f2a-410f-b17f-5b22500b4ef2",
   "metadata": {},
   "outputs": [],
   "source": []
  }
 ],
 "metadata": {
  "kernelspec": {
   "display_name": "sucam",
   "language": "python",
   "name": "sucam"
  },
  "language_info": {
   "codemirror_mode": {
    "name": "ipython",
    "version": 3
   },
   "file_extension": ".py",
   "mimetype": "text/x-python",
   "name": "python",
   "nbconvert_exporter": "python",
   "pygments_lexer": "ipython3",
   "version": "3.10.13"
  }
 },
 "nbformat": 4,
 "nbformat_minor": 5
}

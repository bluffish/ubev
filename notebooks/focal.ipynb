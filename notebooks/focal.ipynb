{
 "cells": [
  {
   "cell_type": "code",
   "execution_count": 1,
   "id": "9142ff30-debc-4c9f-8088-d52c43ee8e9f",
   "metadata": {},
   "outputs": [],
   "source": [
    "%load_ext autoreload\n",
    "%autoreload 2"
   ]
  },
  {
   "cell_type": "code",
   "execution_count": 2,
   "id": "00ff32cc-7ddb-4944-a37a-143ee11cc2a8",
   "metadata": {},
   "outputs": [],
   "source": [
    "import os\n",
    "import sys\n",
    "module_path = os.path.abspath(os.path.join('..'))\n",
    "if module_path not in sys.path:\n",
    "    sys.path.append(module_path)"
   ]
  },
  {
   "cell_type": "code",
   "execution_count": 3,
   "id": "4027cf5f-2a15-4b4e-9747-bf24cb83e883",
   "metadata": {},
   "outputs": [],
   "source": [
    "from tools.loss import *\n"
   ]
  },
  {
   "cell_type": "code",
   "execution_count": 20,
   "id": "c72e0eb1-6294-4b63-a7e7-b4dba85a6cee",
   "metadata": {},
   "outputs": [],
   "source": [
    "logits = torch.tensor([[\n",
    "    10., 2., 2., 2.\n",
    "]])\n",
    "\n",
    "target = torch.tensor([[\n",
    "    1, 0, 0, 0\n",
    "]])"
   ]
  },
  {
   "cell_type": "code",
   "execution_count": 21,
   "id": "259a9715-8af4-4699-9f7d-82b005dee0ee",
   "metadata": {},
   "outputs": [
    {
     "data": {
      "text/plain": [
       "torch.Size([1, 4])"
      ]
     },
     "execution_count": 21,
     "metadata": {},
     "output_type": "execute_result"
    }
   ],
   "source": [
    "logits.softmax(dim=1)\n",
    "logits.shape"
   ]
  },
  {
   "cell_type": "code",
   "execution_count": 22,
   "id": "bb2fbf12-fe77-4322-a6ed-2f1e4fd186b1",
   "metadata": {},
   "outputs": [
    {
     "data": {
      "text/plain": [
       "tensor([[7.9956]])"
      ]
     },
     "execution_count": 22,
     "metadata": {},
     "output_type": "execute_result"
    }
   ],
   "source": [
    "focal_loss(logits, target)"
   ]
  },
  {
   "cell_type": "code",
   "execution_count": null,
   "id": "9998667e-51d3-4d1f-9634-75dd29169e3f",
   "metadata": {},
   "outputs": [],
   "source": []
  }
 ],
 "metadata": {
  "kernelspec": {
   "display_name": "Python 3 (ipykernel)",
   "language": "python",
   "name": "python3"
  },
  "language_info": {
   "codemirror_mode": {
    "name": "ipython",
    "version": 3
   },
   "file_extension": ".py",
   "mimetype": "text/x-python",
   "name": "python",
   "nbconvert_exporter": "python",
   "pygments_lexer": "ipython3",
   "version": "3.9.7"
  }
 },
 "nbformat": 4,
 "nbformat_minor": 5
}
